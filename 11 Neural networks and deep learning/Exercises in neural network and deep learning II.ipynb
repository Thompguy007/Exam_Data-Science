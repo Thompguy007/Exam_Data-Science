{
 "cells": [
  {
   "cell_type": "markdown",
   "id": "5499e3da-49fb-40eb-ac1b-472cf868e000",
   "metadata": {},
   "source": [
    "# Exercises in neural network and deep learning II"
   ]
  },
  {
   "cell_type": "markdown",
   "id": "130f32d2-1eca-4f9b-8a1a-be0e85f447bf",
   "metadata": {},
   "source": [
    "## Exercise 2\n",
    "\n",
    "Based on the **adult dataset**, build a neural network classifier for the target variable `income`. "
   ]
  },
  {
   "cell_type": "code",
   "execution_count": 111,
   "id": "ea0b96d0",
   "metadata": {},
   "outputs": [
    {
     "name": "stdout",
     "output_type": "stream",
     "text": [
      "Collecting seaborn\n",
      "  Using cached seaborn-0.13.2-py3-none-any.whl.metadata (5.4 kB)\n",
      "Requirement already satisfied: numpy!=1.24.0,>=1.20 in c:\\users\\thoma\\miniconda3\\envs\\pydata-book-tf\\lib\\site-packages (from seaborn) (2.1.3)\n",
      "Requirement already satisfied: pandas>=1.2 in c:\\users\\thoma\\miniconda3\\envs\\pydata-book-tf\\lib\\site-packages (from seaborn) (2.2.3)\n",
      "Requirement already satisfied: matplotlib!=3.6.1,>=3.4 in c:\\users\\thoma\\miniconda3\\envs\\pydata-book-tf\\lib\\site-packages (from seaborn) (3.10.1)\n",
      "Requirement already satisfied: contourpy>=1.0.1 in c:\\users\\thoma\\miniconda3\\envs\\pydata-book-tf\\lib\\site-packages (from matplotlib!=3.6.1,>=3.4->seaborn) (1.3.1)\n",
      "Requirement already satisfied: cycler>=0.10 in c:\\users\\thoma\\miniconda3\\envs\\pydata-book-tf\\lib\\site-packages (from matplotlib!=3.6.1,>=3.4->seaborn) (0.12.1)\n",
      "Requirement already satisfied: fonttools>=4.22.0 in c:\\users\\thoma\\miniconda3\\envs\\pydata-book-tf\\lib\\site-packages (from matplotlib!=3.6.1,>=3.4->seaborn) (4.56.0)\n",
      "Requirement already satisfied: kiwisolver>=1.3.1 in c:\\users\\thoma\\miniconda3\\envs\\pydata-book-tf\\lib\\site-packages (from matplotlib!=3.6.1,>=3.4->seaborn) (1.4.8)\n",
      "Requirement already satisfied: packaging>=20.0 in c:\\users\\thoma\\miniconda3\\envs\\pydata-book-tf\\lib\\site-packages (from matplotlib!=3.6.1,>=3.4->seaborn) (24.2)\n",
      "Requirement already satisfied: pillow>=8 in c:\\users\\thoma\\miniconda3\\envs\\pydata-book-tf\\lib\\site-packages (from matplotlib!=3.6.1,>=3.4->seaborn) (11.1.0)\n",
      "Requirement already satisfied: pyparsing>=2.3.1 in c:\\users\\thoma\\miniconda3\\envs\\pydata-book-tf\\lib\\site-packages (from matplotlib!=3.6.1,>=3.4->seaborn) (3.2.1)\n",
      "Requirement already satisfied: python-dateutil>=2.7 in c:\\users\\thoma\\miniconda3\\envs\\pydata-book-tf\\lib\\site-packages (from matplotlib!=3.6.1,>=3.4->seaborn) (2.9.0.post0)\n",
      "Requirement already satisfied: pytz>=2020.1 in c:\\users\\thoma\\miniconda3\\envs\\pydata-book-tf\\lib\\site-packages (from pandas>=1.2->seaborn) (2025.1)\n",
      "Requirement already satisfied: tzdata>=2022.7 in c:\\users\\thoma\\miniconda3\\envs\\pydata-book-tf\\lib\\site-packages (from pandas>=1.2->seaborn) (2025.1)\n",
      "Requirement already satisfied: six>=1.5 in c:\\users\\thoma\\miniconda3\\envs\\pydata-book-tf\\lib\\site-packages (from python-dateutil>=2.7->matplotlib!=3.6.1,>=3.4->seaborn) (1.17.0)\n",
      "Using cached seaborn-0.13.2-py3-none-any.whl (294 kB)\n",
      "Installing collected packages: seaborn\n",
      "Successfully installed seaborn-0.13.2\n"
     ]
    }
   ],
   "source": [
    "!pip install seaborn"
   ]
  },
  {
   "cell_type": "code",
   "execution_count": 112,
   "id": "b7273e40",
   "metadata": {},
   "outputs": [],
   "source": [
    "import pandas as pd\n",
    "import numpy as np\n",
    "from tensorflow import keras\n",
    "from tensorflow.keras import layers\n",
    "from sklearn.model_selection import train_test_split\n",
    "from sklearn.preprocessing import StandardScaler\n",
    "from sklearn.metrics import accuracy_score, precision_score, recall_score, f1_score, confusion_matrix\n",
    "import matplotlib.pyplot as plt\n",
    "import seaborn as sns"
   ]
  },
  {
   "cell_type": "code",
   "execution_count": 114,
   "id": "ad3587ca-8799-4d16-a74d-fb07eaa8d053",
   "metadata": {},
   "outputs": [],
   "source": [
    "# Indlæs Adult-datasættet\n",
    "column_names = [\n",
    "    'age', 'workclass', 'fnlwgt', 'education', 'education-num',\n",
    "    'marital-status', 'occupation', 'relationship', 'race', 'sex',\n",
    "    'capital-gain', 'capital-loss', 'hours-per-week', 'native-country', 'income'\n",
    "]\n",
    "\n",
    "data = pd.read_csv(\"adult.csv\", header=None, names=column_names)\n"
   ]
  },
  {
   "cell_type": "code",
   "execution_count": 115,
   "id": "5530f9d5",
   "metadata": {},
   "outputs": [],
   "source": [
    "# Vælg relevante kolonner\n",
    "data = data[['age', 'workclass', 'education', 'sex', 'capital-gain', 'capital-loss', 'hours-per-week', 'income']]"
   ]
  },
  {
   "cell_type": "code",
   "execution_count": 102,
   "id": "b6771042",
   "metadata": {},
   "outputs": [],
   "source": [
    "# Fjern mellemrum og punktummer fra income-kolonnen\n",
    "data[\"income\"] = data[\"income\"].str.strip().replace({'.':''})"
   ]
  },
  {
   "cell_type": "code",
   "execution_count": 103,
   "id": "b500d1b4",
   "metadata": {},
   "outputs": [],
   "source": [
    "# fjerner alle tegn, der ikke er bogstaver, tal, <, > (så vi beholder <=50K og >50K).\n",
    "data[\"income\"] = data[\"income\"].str.strip().str.replace(r\"[^\\w<>]\", \"\", regex=True)"
   ]
  },
  {
   "cell_type": "code",
   "execution_count": 104,
   "id": "224d1ed1",
   "metadata": {},
   "outputs": [
    {
     "name": "stdout",
     "output_type": "stream",
     "text": [
      "['<50K' '>50K']\n"
     ]
    }
   ],
   "source": [
    "print(data[\"income\"].unique())"
   ]
  },
  {
   "cell_type": "code",
   "execution_count": 116,
   "id": "fb8cfe9f",
   "metadata": {},
   "outputs": [],
   "source": [
    "# Konverter 'workclass', 'education', og 'sex' til dummy-variabler\n",
    "data = pd.get_dummies(data, columns=['workclass', 'education', 'sex'], drop_first=True)"
   ]
  },
  {
   "cell_type": "code",
   "execution_count": 117,
   "id": "ba1a35e9",
   "metadata": {},
   "outputs": [],
   "source": [
    "# 4. Split data i træning/test\n",
    "\n",
    "X = data.drop('income', axis=1)\n",
    "y = data['income'].apply(lambda x: 1 if x.strip() == '>50K' else 0)\n"
   ]
  },
  {
   "cell_type": "code",
   "execution_count": 118,
   "id": "f1fb8bf4",
   "metadata": {},
   "outputs": [],
   "source": [
    "X_train, X_test, y_train, y_test = train_test_split(X, y, test_size=0.2, random_state=42)"
   ]
  },
  {
   "cell_type": "code",
   "execution_count": 121,
   "id": "caf8a7da",
   "metadata": {},
   "outputs": [],
   "source": [
    "# Konverter numeriske kolonner fra 'object' til 'float'\n",
    "numeric_cols = ['age', 'capital-gain', 'capital-loss', 'hours-per-week']\n",
    "X_train[numeric_cols] = X_train[numeric_cols].apply(pd.to_numeric, errors='coerce')\n",
    "X_test[numeric_cols] = X_test[numeric_cols].apply(pd.to_numeric, errors='coerce')\n",
    "\n"
   ]
  },
  {
   "cell_type": "code",
   "execution_count": 122,
   "id": "40d03ff0",
   "metadata": {},
   "outputs": [],
   "source": [
    "X_train.fillna(X_train.mean(), inplace=True)\n",
    "X_test.fillna(X_test.mean(), inplace=True)\n"
   ]
  },
  {
   "cell_type": "code",
   "execution_count": 123,
   "id": "d0618ec8",
   "metadata": {},
   "outputs": [
    {
     "name": "stdout",
     "output_type": "stream",
     "text": [
      "age                           float64\n",
      "capital-gain                  float64\n",
      "capital-loss                  float64\n",
      "hours-per-week                float64\n",
      "workclass_Federal-gov            bool\n",
      "workclass_Local-gov              bool\n",
      "workclass_Never-worked           bool\n",
      "workclass_Private                bool\n",
      "workclass_Self-emp-inc           bool\n",
      "workclass_Self-emp-not-inc       bool\n",
      "workclass_State-gov              bool\n",
      "workclass_Without-pay            bool\n",
      "workclass_workclass              bool\n",
      "education_11th                   bool\n",
      "education_12th                   bool\n",
      "education_1st-4th                bool\n",
      "education_5th-6th                bool\n",
      "education_7th-8th                bool\n",
      "education_9th                    bool\n",
      "education_Assoc-acdm             bool\n",
      "education_Assoc-voc              bool\n",
      "education_Bachelors              bool\n",
      "education_Doctorate              bool\n",
      "education_HS-grad                bool\n",
      "education_Masters                bool\n",
      "education_Preschool              bool\n",
      "education_Prof-school            bool\n",
      "education_Some-college           bool\n",
      "education_education              bool\n",
      "sex_Male                         bool\n",
      "sex_sex                          bool\n",
      "dtype: object\n"
     ]
    }
   ],
   "source": [
    "print(X_train.dtypes)\n"
   ]
  },
  {
   "cell_type": "code",
   "execution_count": null,
   "id": "3d5d965b",
   "metadata": {},
   "outputs": [],
   "source": [
    "# skalering af data\n",
    "from sklearn.preprocessing import StandardScaler\n",
    "\n",
    "scaler = StandardScaler()\n",
    "X_train_scaled = scaler.fit_transform(X_train)\n",
    "X_test_scaled = scaler.transform(X_test)\n"
   ]
  },
  {
   "cell_type": "code",
   "execution_count": 125,
   "id": "961f909b",
   "metadata": {},
   "outputs": [],
   "source": [
    "# 6. Konvertering til numpy arrays\n",
    "\n",
    "X_train = X_train_scaled.astype('float32')\n",
    "X_test = X_test_scaled.astype('float32')\n",
    "y_train = y_train.to_numpy().astype('float32')\n",
    "y_test = y_test.to_numpy().astype('float32')"
   ]
  },
  {
   "cell_type": "markdown",
   "id": "4f86b6a5",
   "metadata": {},
   "source": [
    "### Byg modellen"
   ]
  },
  {
   "cell_type": "code",
   "execution_count": 126,
   "id": "3e7ca31b",
   "metadata": {},
   "outputs": [
    {
     "name": "stderr",
     "output_type": "stream",
     "text": [
      "c:\\Users\\Thoma\\miniconda3\\envs\\pydata-book-tf\\lib\\site-packages\\keras\\src\\layers\\core\\dense.py:87: UserWarning: Do not pass an `input_shape`/`input_dim` argument to a layer. When using Sequential models, prefer using an `Input(shape)` object as the first layer in the model instead.\n",
      "  super().__init__(activity_regularizer=activity_regularizer, **kwargs)\n"
     ]
    }
   ],
   "source": [
    "model = keras.Sequential([\n",
    "    layers.Dense(16, activation='relu', input_shape=(X_train.shape[1],)),\n",
    "    layers.Dense(16, activation='relu'),\n",
    "    layers.Dense(1, activation='sigmoid')\n",
    "])"
   ]
  },
  {
   "cell_type": "code",
   "execution_count": 127,
   "id": "c66ea52b",
   "metadata": {},
   "outputs": [],
   "source": [
    "# 8. Kompilér modellen\n",
    "model.compile(optimizer='rmsprop',\n",
    "              loss='binary_crossentropy',\n",
    "              metrics=['accuracy'])"
   ]
  },
  {
   "cell_type": "markdown",
   "id": "9b9fbf48",
   "metadata": {},
   "source": [
    "### Træn modellen"
   ]
  },
  {
   "cell_type": "code",
   "execution_count": 128,
   "id": "9d4d4288",
   "metadata": {},
   "outputs": [
    {
     "name": "stdout",
     "output_type": "stream",
     "text": [
      "Epoch 1/50\n",
      "\u001b[1m489/489\u001b[0m \u001b[32m━━━━━━━━━━━━━━━━━━━━\u001b[0m\u001b[37m\u001b[0m \u001b[1m1s\u001b[0m 1ms/step - accuracy: 0.7829 - loss: 0.4912 - val_accuracy: 0.8380 - val_loss: 0.3691\n",
      "Epoch 2/50\n",
      "\u001b[1m489/489\u001b[0m \u001b[32m━━━━━━━━━━━━━━━━━━━━\u001b[0m\u001b[37m\u001b[0m \u001b[1m1s\u001b[0m 1ms/step - accuracy: 0.8462 - loss: 0.3577 - val_accuracy: 0.8385 - val_loss: 0.3610\n",
      "Epoch 3/50\n",
      "\u001b[1m489/489\u001b[0m \u001b[32m━━━━━━━━━━━━━━━━━━━━\u001b[0m\u001b[37m\u001b[0m \u001b[1m1s\u001b[0m 1ms/step - accuracy: 0.8484 - loss: 0.3539 - val_accuracy: 0.8413 - val_loss: 0.3564\n",
      "Epoch 4/50\n",
      "\u001b[1m489/489\u001b[0m \u001b[32m━━━━━━━━━━━━━━━━━━━━\u001b[0m\u001b[37m\u001b[0m \u001b[1m1s\u001b[0m 1ms/step - accuracy: 0.8475 - loss: 0.3470 - val_accuracy: 0.8443 - val_loss: 0.3543\n",
      "Epoch 5/50\n",
      "\u001b[1m489/489\u001b[0m \u001b[32m━━━━━━━━━━━━━━━━━━━━\u001b[0m\u001b[37m\u001b[0m \u001b[1m1s\u001b[0m 1ms/step - accuracy: 0.8488 - loss: 0.3449 - val_accuracy: 0.8434 - val_loss: 0.3530\n",
      "Epoch 6/50\n",
      "\u001b[1m489/489\u001b[0m \u001b[32m━━━━━━━━━━━━━━━━━━━━\u001b[0m\u001b[37m\u001b[0m \u001b[1m1s\u001b[0m 1ms/step - accuracy: 0.8545 - loss: 0.3340 - val_accuracy: 0.8447 - val_loss: 0.3510\n",
      "Epoch 7/50\n",
      "\u001b[1m489/489\u001b[0m \u001b[32m━━━━━━━━━━━━━━━━━━━━\u001b[0m\u001b[37m\u001b[0m \u001b[1m1s\u001b[0m 1ms/step - accuracy: 0.8568 - loss: 0.3318 - val_accuracy: 0.8456 - val_loss: 0.3502\n",
      "Epoch 8/50\n",
      "\u001b[1m489/489\u001b[0m \u001b[32m━━━━━━━━━━━━━━━━━━━━\u001b[0m\u001b[37m\u001b[0m \u001b[1m1s\u001b[0m 1ms/step - accuracy: 0.8511 - loss: 0.3404 - val_accuracy: 0.8476 - val_loss: 0.3506\n",
      "Epoch 9/50\n",
      "\u001b[1m489/489\u001b[0m \u001b[32m━━━━━━━━━━━━━━━━━━━━\u001b[0m\u001b[37m\u001b[0m \u001b[1m1s\u001b[0m 1ms/step - accuracy: 0.8508 - loss: 0.3407 - val_accuracy: 0.8482 - val_loss: 0.3501\n",
      "Epoch 10/50\n",
      "\u001b[1m489/489\u001b[0m \u001b[32m━━━━━━━━━━━━━━━━━━━━\u001b[0m\u001b[37m\u001b[0m \u001b[1m1s\u001b[0m 1ms/step - accuracy: 0.8563 - loss: 0.3349 - val_accuracy: 0.8489 - val_loss: 0.3491\n",
      "Epoch 11/50\n",
      "\u001b[1m489/489\u001b[0m \u001b[32m━━━━━━━━━━━━━━━━━━━━\u001b[0m\u001b[37m\u001b[0m \u001b[1m1s\u001b[0m 1ms/step - accuracy: 0.8501 - loss: 0.3424 - val_accuracy: 0.8480 - val_loss: 0.3494\n",
      "Epoch 12/50\n",
      "\u001b[1m489/489\u001b[0m \u001b[32m━━━━━━━━━━━━━━━━━━━━\u001b[0m\u001b[37m\u001b[0m \u001b[1m1s\u001b[0m 1ms/step - accuracy: 0.8534 - loss: 0.3404 - val_accuracy: 0.8488 - val_loss: 0.3503\n",
      "Epoch 13/50\n",
      "\u001b[1m489/489\u001b[0m \u001b[32m━━━━━━━━━━━━━━━━━━━━\u001b[0m\u001b[37m\u001b[0m \u001b[1m1s\u001b[0m 1ms/step - accuracy: 0.8562 - loss: 0.3351 - val_accuracy: 0.8494 - val_loss: 0.3497\n",
      "Epoch 14/50\n",
      "\u001b[1m489/489\u001b[0m \u001b[32m━━━━━━━━━━━━━━━━━━━━\u001b[0m\u001b[37m\u001b[0m \u001b[1m1s\u001b[0m 1ms/step - accuracy: 0.8526 - loss: 0.3356 - val_accuracy: 0.8489 - val_loss: 0.3494\n",
      "Epoch 15/50\n",
      "\u001b[1m489/489\u001b[0m \u001b[32m━━━━━━━━━━━━━━━━━━━━\u001b[0m\u001b[37m\u001b[0m \u001b[1m1s\u001b[0m 1ms/step - accuracy: 0.8525 - loss: 0.3389 - val_accuracy: 0.8493 - val_loss: 0.3502\n",
      "Epoch 16/50\n",
      "\u001b[1m489/489\u001b[0m \u001b[32m━━━━━━━━━━━━━━━━━━━━\u001b[0m\u001b[37m\u001b[0m \u001b[1m1s\u001b[0m 1ms/step - accuracy: 0.8548 - loss: 0.3314 - val_accuracy: 0.8488 - val_loss: 0.3482\n",
      "Epoch 17/50\n",
      "\u001b[1m489/489\u001b[0m \u001b[32m━━━━━━━━━━━━━━━━━━━━\u001b[0m\u001b[37m\u001b[0m \u001b[1m1s\u001b[0m 1ms/step - accuracy: 0.8536 - loss: 0.3387 - val_accuracy: 0.8495 - val_loss: 0.3497\n",
      "Epoch 18/50\n",
      "\u001b[1m489/489\u001b[0m \u001b[32m━━━━━━━━━━━━━━━━━━━━\u001b[0m\u001b[37m\u001b[0m \u001b[1m1s\u001b[0m 1ms/step - accuracy: 0.8545 - loss: 0.3357 - val_accuracy: 0.8494 - val_loss: 0.3483\n",
      "Epoch 19/50\n",
      "\u001b[1m489/489\u001b[0m \u001b[32m━━━━━━━━━━━━━━━━━━━━\u001b[0m\u001b[37m\u001b[0m \u001b[1m1s\u001b[0m 1ms/step - accuracy: 0.8593 - loss: 0.3307 - val_accuracy: 0.8499 - val_loss: 0.3484\n",
      "Epoch 20/50\n",
      "\u001b[1m489/489\u001b[0m \u001b[32m━━━━━━━━━━━━━━━━━━━━\u001b[0m\u001b[37m\u001b[0m \u001b[1m1s\u001b[0m 1ms/step - accuracy: 0.8563 - loss: 0.3283 - val_accuracy: 0.8490 - val_loss: 0.3488\n",
      "Epoch 21/50\n",
      "\u001b[1m489/489\u001b[0m \u001b[32m━━━━━━━━━━━━━━━━━━━━\u001b[0m\u001b[37m\u001b[0m \u001b[1m1s\u001b[0m 1ms/step - accuracy: 0.8542 - loss: 0.3373 - val_accuracy: 0.8498 - val_loss: 0.3480\n",
      "Epoch 22/50\n",
      "\u001b[1m489/489\u001b[0m \u001b[32m━━━━━━━━━━━━━━━━━━━━\u001b[0m\u001b[37m\u001b[0m \u001b[1m1s\u001b[0m 1ms/step - accuracy: 0.8556 - loss: 0.3360 - val_accuracy: 0.8503 - val_loss: 0.3477\n",
      "Epoch 23/50\n",
      "\u001b[1m489/489\u001b[0m \u001b[32m━━━━━━━━━━━━━━━━━━━━\u001b[0m\u001b[37m\u001b[0m \u001b[1m1s\u001b[0m 1ms/step - accuracy: 0.8547 - loss: 0.3326 - val_accuracy: 0.8514 - val_loss: 0.3491\n",
      "Epoch 24/50\n",
      "\u001b[1m489/489\u001b[0m \u001b[32m━━━━━━━━━━━━━━━━━━━━\u001b[0m\u001b[37m\u001b[0m \u001b[1m1s\u001b[0m 1ms/step - accuracy: 0.8570 - loss: 0.3322 - val_accuracy: 0.8502 - val_loss: 0.3499\n",
      "Epoch 25/50\n",
      "\u001b[1m489/489\u001b[0m \u001b[32m━━━━━━━━━━━━━━━━━━━━\u001b[0m\u001b[37m\u001b[0m \u001b[1m1s\u001b[0m 1ms/step - accuracy: 0.8551 - loss: 0.3349 - val_accuracy: 0.8511 - val_loss: 0.3480\n",
      "Epoch 26/50\n",
      "\u001b[1m489/489\u001b[0m \u001b[32m━━━━━━━━━━━━━━━━━━━━\u001b[0m\u001b[37m\u001b[0m \u001b[1m1s\u001b[0m 1ms/step - accuracy: 0.8550 - loss: 0.3352 - val_accuracy: 0.8523 - val_loss: 0.3494\n",
      "Epoch 27/50\n",
      "\u001b[1m489/489\u001b[0m \u001b[32m━━━━━━━━━━━━━━━━━━━━\u001b[0m\u001b[37m\u001b[0m \u001b[1m1s\u001b[0m 1ms/step - accuracy: 0.8556 - loss: 0.3327 - val_accuracy: 0.8495 - val_loss: 0.3483\n",
      "Epoch 28/50\n",
      "\u001b[1m489/489\u001b[0m \u001b[32m━━━━━━━━━━━━━━━━━━━━\u001b[0m\u001b[37m\u001b[0m \u001b[1m1s\u001b[0m 1ms/step - accuracy: 0.8539 - loss: 0.3336 - val_accuracy: 0.8490 - val_loss: 0.3498\n",
      "Epoch 29/50\n",
      "\u001b[1m489/489\u001b[0m \u001b[32m━━━━━━━━━━━━━━━━━━━━\u001b[0m\u001b[37m\u001b[0m \u001b[1m1s\u001b[0m 1ms/step - accuracy: 0.8595 - loss: 0.3294 - val_accuracy: 0.8513 - val_loss: 0.3486\n",
      "Epoch 30/50\n",
      "\u001b[1m489/489\u001b[0m \u001b[32m━━━━━━━━━━━━━━━━━━━━\u001b[0m\u001b[37m\u001b[0m \u001b[1m1s\u001b[0m 1ms/step - accuracy: 0.8556 - loss: 0.3304 - val_accuracy: 0.8496 - val_loss: 0.3494\n",
      "Epoch 31/50\n",
      "\u001b[1m489/489\u001b[0m \u001b[32m━━━━━━━━━━━━━━━━━━━━\u001b[0m\u001b[37m\u001b[0m \u001b[1m1s\u001b[0m 1ms/step - accuracy: 0.8584 - loss: 0.3300 - val_accuracy: 0.8505 - val_loss: 0.3483\n",
      "Epoch 32/50\n",
      "\u001b[1m489/489\u001b[0m \u001b[32m━━━━━━━━━━━━━━━━━━━━\u001b[0m\u001b[37m\u001b[0m \u001b[1m1s\u001b[0m 1ms/step - accuracy: 0.8581 - loss: 0.3291 - val_accuracy: 0.8500 - val_loss: 0.3488\n",
      "Epoch 33/50\n",
      "\u001b[1m489/489\u001b[0m \u001b[32m━━━━━━━━━━━━━━━━━━━━\u001b[0m\u001b[37m\u001b[0m \u001b[1m1s\u001b[0m 1ms/step - accuracy: 0.8584 - loss: 0.3271 - val_accuracy: 0.8514 - val_loss: 0.3476\n",
      "Epoch 34/50\n",
      "\u001b[1m489/489\u001b[0m \u001b[32m━━━━━━━━━━━━━━━━━━━━\u001b[0m\u001b[37m\u001b[0m \u001b[1m1s\u001b[0m 1ms/step - accuracy: 0.8530 - loss: 0.3360 - val_accuracy: 0.8491 - val_loss: 0.3483\n",
      "Epoch 35/50\n",
      "\u001b[1m489/489\u001b[0m \u001b[32m━━━━━━━━━━━━━━━━━━━━\u001b[0m\u001b[37m\u001b[0m \u001b[1m1s\u001b[0m 1ms/step - accuracy: 0.8549 - loss: 0.3373 - val_accuracy: 0.8503 - val_loss: 0.3482\n",
      "Epoch 36/50\n",
      "\u001b[1m489/489\u001b[0m \u001b[32m━━━━━━━━━━━━━━━━━━━━\u001b[0m\u001b[37m\u001b[0m \u001b[1m1s\u001b[0m 1ms/step - accuracy: 0.8549 - loss: 0.3354 - val_accuracy: 0.8503 - val_loss: 0.3488\n",
      "Epoch 37/50\n",
      "\u001b[1m489/489\u001b[0m \u001b[32m━━━━━━━━━━━━━━━━━━━━\u001b[0m\u001b[37m\u001b[0m \u001b[1m1s\u001b[0m 1ms/step - accuracy: 0.8537 - loss: 0.3351 - val_accuracy: 0.8500 - val_loss: 0.3482\n",
      "Epoch 38/50\n",
      "\u001b[1m489/489\u001b[0m \u001b[32m━━━━━━━━━━━━━━━━━━━━\u001b[0m\u001b[37m\u001b[0m \u001b[1m1s\u001b[0m 1ms/step - accuracy: 0.8554 - loss: 0.3333 - val_accuracy: 0.8513 - val_loss: 0.3484\n",
      "Epoch 39/50\n",
      "\u001b[1m489/489\u001b[0m \u001b[32m━━━━━━━━━━━━━━━━━━━━\u001b[0m\u001b[37m\u001b[0m \u001b[1m1s\u001b[0m 1ms/step - accuracy: 0.8567 - loss: 0.3304 - val_accuracy: 0.8512 - val_loss: 0.3489\n",
      "Epoch 40/50\n",
      "\u001b[1m489/489\u001b[0m \u001b[32m━━━━━━━━━━━━━━━━━━━━\u001b[0m\u001b[37m\u001b[0m \u001b[1m1s\u001b[0m 1ms/step - accuracy: 0.8574 - loss: 0.3316 - val_accuracy: 0.8502 - val_loss: 0.3478\n",
      "Epoch 41/50\n",
      "\u001b[1m489/489\u001b[0m \u001b[32m━━━━━━━━━━━━━━━━━━━━\u001b[0m\u001b[37m\u001b[0m \u001b[1m1s\u001b[0m 1ms/step - accuracy: 0.8574 - loss: 0.3319 - val_accuracy: 0.8498 - val_loss: 0.3486\n",
      "Epoch 42/50\n",
      "\u001b[1m489/489\u001b[0m \u001b[32m━━━━━━━━━━━━━━━━━━━━\u001b[0m\u001b[37m\u001b[0m \u001b[1m1s\u001b[0m 1ms/step - accuracy: 0.8571 - loss: 0.3281 - val_accuracy: 0.8517 - val_loss: 0.3476\n",
      "Epoch 43/50\n",
      "\u001b[1m489/489\u001b[0m \u001b[32m━━━━━━━━━━━━━━━━━━━━\u001b[0m\u001b[37m\u001b[0m \u001b[1m1s\u001b[0m 1ms/step - accuracy: 0.8590 - loss: 0.3313 - val_accuracy: 0.8503 - val_loss: 0.3483\n",
      "Epoch 44/50\n",
      "\u001b[1m489/489\u001b[0m \u001b[32m━━━━━━━━━━━━━━━━━━━━\u001b[0m\u001b[37m\u001b[0m \u001b[1m1s\u001b[0m 1ms/step - accuracy: 0.8540 - loss: 0.3348 - val_accuracy: 0.8503 - val_loss: 0.3488\n",
      "Epoch 45/50\n",
      "\u001b[1m489/489\u001b[0m \u001b[32m━━━━━━━━━━━━━━━━━━━━\u001b[0m\u001b[37m\u001b[0m \u001b[1m1s\u001b[0m 1ms/step - accuracy: 0.8555 - loss: 0.3297 - val_accuracy: 0.8512 - val_loss: 0.3476\n",
      "Epoch 46/50\n",
      "\u001b[1m489/489\u001b[0m \u001b[32m━━━━━━━━━━━━━━━━━━━━\u001b[0m\u001b[37m\u001b[0m \u001b[1m1s\u001b[0m 1ms/step - accuracy: 0.8561 - loss: 0.3307 - val_accuracy: 0.8514 - val_loss: 0.3471\n",
      "Epoch 47/50\n",
      "\u001b[1m489/489\u001b[0m \u001b[32m━━━━━━━━━━━━━━━━━━━━\u001b[0m\u001b[37m\u001b[0m \u001b[1m1s\u001b[0m 1ms/step - accuracy: 0.8586 - loss: 0.3271 - val_accuracy: 0.8499 - val_loss: 0.3466\n",
      "Epoch 48/50\n",
      "\u001b[1m489/489\u001b[0m \u001b[32m━━━━━━━━━━━━━━━━━━━━\u001b[0m\u001b[37m\u001b[0m \u001b[1m1s\u001b[0m 1ms/step - accuracy: 0.8549 - loss: 0.3344 - val_accuracy: 0.8502 - val_loss: 0.3483\n",
      "Epoch 49/50\n",
      "\u001b[1m489/489\u001b[0m \u001b[32m━━━━━━━━━━━━━━━━━━━━\u001b[0m\u001b[37m\u001b[0m \u001b[1m1s\u001b[0m 1ms/step - accuracy: 0.8617 - loss: 0.3264 - val_accuracy: 0.8513 - val_loss: 0.3476\n",
      "Epoch 50/50\n",
      "\u001b[1m489/489\u001b[0m \u001b[32m━━━━━━━━━━━━━━━━━━━━\u001b[0m\u001b[37m\u001b[0m \u001b[1m1s\u001b[0m 1ms/step - accuracy: 0.8556 - loss: 0.3332 - val_accuracy: 0.8503 - val_loss: 0.3502\n"
     ]
    }
   ],
   "source": [
    "history = model.fit(X_train, y_train,\n",
    "                    epochs=50,\n",
    "                    batch_size=64,\n",
    "                    validation_split=0.2)\n",
    "\n"
   ]
  },
  {
   "cell_type": "code",
   "execution_count": null,
   "id": "7037c1c3",
   "metadata": {},
   "outputs": [],
   "source": [
    "# 10. Visualisering af tab og nøjagtighed\n",
    "history_dict = history.history\n"
   ]
  },
  {
   "cell_type": "code",
   "execution_count": 130,
   "id": "412c37d6",
   "metadata": {},
   "outputs": [
    {
     "data": {
      "image/png": "[encoded data removed]",
      "text/plain": [
       "<Figure size 640x480 with 1 Axes>"
      ]
     },
     "metadata": {},
     "output_type": "display_data"
    }
   ],
   "source": [
    "# Plot træning og valideringstab\n",
    "plt.plot(history_dict['loss'], 'bo', label='Training loss')\n",
    "plt.plot(history_dict['val_loss'], 'b', label='Validation loss')\n",
    "plt.title(\"Training and validation loss\")\n",
    "plt.xlabel(\"Epochs\")\n",
    "plt.ylabel(\"Loss\")\n",
    "plt.legend()\n",
    "plt.show()"
   ]
  },
  {
   "cell_type": "code",
   "execution_count": 131,
   "id": "315da213",
   "metadata": {},
   "outputs": [
    {
     "data": {
      "image/png": "[encoded data removed]",
      "text/plain": [
       "<Figure size 640x480 with 1 Axes>"
      ]
     },
     "metadata": {},
     "output_type": "display_data"
    }
   ],
   "source": [
    "# Plot træning og valideringsnøjagtighed\n",
    "plt.clf()\n",
    "plt.plot(history_dict['accuracy'], 'bo', label='Training acc')\n",
    "plt.plot(history_dict['val_accuracy'], 'b', label='Validation acc')\n",
    "plt.title(\"Training and validation accuracy\")\n",
    "plt.xlabel(\"Epochs\")\n",
    "plt.ylabel(\"Accuracy\")\n",
    "plt.legend()\n",
    "plt.show()"
   ]
  },
  {
   "cell_type": "code",
   "execution_count": 133,
   "id": "f79eac39",
   "metadata": {},
   "outputs": [
    {
     "name": "stdout",
     "output_type": "stream",
     "text": [
      "Training the model with 47 epochs...\n",
      "Epoch 1/47\n",
      "\u001b[1m489/489\u001b[0m \u001b[32m━━━━━━━━━━━━━━━━━━━━\u001b[0m\u001b[37m\u001b[0m \u001b[1m1s\u001b[0m 1ms/step - accuracy: 0.8404 - loss: 0.4284 - val_accuracy: 0.8417 - val_loss: 0.3704\n",
      "Epoch 2/47\n",
      "\u001b[1m489/489\u001b[0m \u001b[32m━━━━━━━━━━━━━━━━━━━━\u001b[0m\u001b[37m\u001b[0m \u001b[1m1s\u001b[0m 1ms/step - accuracy: 0.8494 - loss: 0.3470 - val_accuracy: 0.8431 - val_loss: 0.3600\n",
      "Epoch 3/47\n",
      "\u001b[1m489/489\u001b[0m \u001b[32m━━━━━━━━━━━━━━━━━━━━\u001b[0m\u001b[37m\u001b[0m \u001b[1m1s\u001b[0m 1ms/step - accuracy: 0.8498 - loss: 0.3428 - val_accuracy: 0.8458 - val_loss: 0.3561\n",
      "Epoch 4/47\n",
      "\u001b[1m489/489\u001b[0m \u001b[32m━━━━━━━━━━━━━━━━━━━━\u001b[0m\u001b[37m\u001b[0m \u001b[1m1s\u001b[0m 1ms/step - accuracy: 0.8535 - loss: 0.3417 - val_accuracy: 0.8447 - val_loss: 0.3532\n",
      "Epoch 5/47\n",
      "\u001b[1m489/489\u001b[0m \u001b[32m━━━━━━━━━━━━━━━━━━━━\u001b[0m\u001b[37m\u001b[0m \u001b[1m1s\u001b[0m 1ms/step - accuracy: 0.8535 - loss: 0.3417 - val_accuracy: 0.8473 - val_loss: 0.3512\n",
      "Epoch 6/47\n",
      "\u001b[1m489/489\u001b[0m \u001b[32m━━━━━━━━━━━━━━━━━━━━\u001b[0m\u001b[37m\u001b[0m \u001b[1m1s\u001b[0m 1ms/step - accuracy: 0.8533 - loss: 0.3407 - val_accuracy: 0.8467 - val_loss: 0.3501\n",
      "Epoch 7/47\n",
      "\u001b[1m489/489\u001b[0m \u001b[32m━━━━━━━━━━━━━━━━━━━━\u001b[0m\u001b[37m\u001b[0m \u001b[1m1s\u001b[0m 1ms/step - accuracy: 0.8500 - loss: 0.3438 - val_accuracy: 0.8476 - val_loss: 0.3502\n",
      "Epoch 8/47\n",
      "\u001b[1m489/489\u001b[0m \u001b[32m━━━━━━━━━━━━━━━━━━━━\u001b[0m\u001b[37m\u001b[0m \u001b[1m1s\u001b[0m 1ms/step - accuracy: 0.8535 - loss: 0.3401 - val_accuracy: 0.8488 - val_loss: 0.3499\n",
      "Epoch 9/47\n",
      "\u001b[1m489/489\u001b[0m \u001b[32m━━━━━━━━━━━━━━━━━━━━\u001b[0m\u001b[37m\u001b[0m \u001b[1m1s\u001b[0m 1ms/step - accuracy: 0.8532 - loss: 0.3385 - val_accuracy: 0.8481 - val_loss: 0.3497\n",
      "Epoch 10/47\n",
      "\u001b[1m489/489\u001b[0m \u001b[32m━━━━━━━━━━━━━━━━━━━━\u001b[0m\u001b[37m\u001b[0m \u001b[1m1s\u001b[0m 1ms/step - accuracy: 0.8576 - loss: 0.3325 - val_accuracy: 0.8486 - val_loss: 0.3484\n",
      "Epoch 11/47\n",
      "\u001b[1m489/489\u001b[0m \u001b[32m━━━━━━━━━━━━━━━━━━━━\u001b[0m\u001b[37m\u001b[0m \u001b[1m1s\u001b[0m 1ms/step - accuracy: 0.8517 - loss: 0.3373 - val_accuracy: 0.8485 - val_loss: 0.3480\n",
      "Epoch 12/47\n",
      "\u001b[1m489/489\u001b[0m \u001b[32m━━━━━━━━━━━━━━━━━━━━\u001b[0m\u001b[37m\u001b[0m \u001b[1m1s\u001b[0m 1ms/step - accuracy: 0.8512 - loss: 0.3426 - val_accuracy: 0.8457 - val_loss: 0.3495\n",
      "Epoch 13/47\n",
      "\u001b[1m489/489\u001b[0m \u001b[32m━━━━━━━━━━━━━━━━━━━━\u001b[0m\u001b[37m\u001b[0m \u001b[1m1s\u001b[0m 1ms/step - accuracy: 0.8565 - loss: 0.3317 - val_accuracy: 0.8490 - val_loss: 0.3475\n",
      "Epoch 14/47\n",
      "\u001b[1m489/489\u001b[0m \u001b[32m━━━━━━━━━━━━━━━━━━━━\u001b[0m\u001b[37m\u001b[0m \u001b[1m1s\u001b[0m 1ms/step - accuracy: 0.8535 - loss: 0.3393 - val_accuracy: 0.8489 - val_loss: 0.3484\n",
      "Epoch 15/47\n",
      "\u001b[1m489/489\u001b[0m \u001b[32m━━━━━━━━━━━━━━━━━━━━\u001b[0m\u001b[37m\u001b[0m \u001b[1m1s\u001b[0m 1ms/step - accuracy: 0.8571 - loss: 0.3340 - val_accuracy: 0.8498 - val_loss: 0.3487\n",
      "Epoch 16/47\n",
      "\u001b[1m489/489\u001b[0m \u001b[32m━━━━━━━━━━━━━━━━━━━━\u001b[0m\u001b[37m\u001b[0m \u001b[1m1s\u001b[0m 1ms/step - accuracy: 0.8570 - loss: 0.3330 - val_accuracy: 0.8491 - val_loss: 0.3491\n",
      "Epoch 17/47\n",
      "\u001b[1m489/489\u001b[0m \u001b[32m━━━━━━━━━━━━━━━━━━━━\u001b[0m\u001b[37m\u001b[0m \u001b[1m1s\u001b[0m 1ms/step - accuracy: 0.8534 - loss: 0.3393 - val_accuracy: 0.8485 - val_loss: 0.3487\n",
      "Epoch 18/47\n",
      "\u001b[1m489/489\u001b[0m \u001b[32m━━━━━━━━━━━━━━━━━━━━\u001b[0m\u001b[37m\u001b[0m \u001b[1m1s\u001b[0m 1ms/step - accuracy: 0.8517 - loss: 0.3387 - val_accuracy: 0.8480 - val_loss: 0.3502\n",
      "Epoch 19/47\n",
      "\u001b[1m489/489\u001b[0m \u001b[32m━━━━━━━━━━━━━━━━━━━━\u001b[0m\u001b[37m\u001b[0m \u001b[1m1s\u001b[0m 1ms/step - accuracy: 0.8559 - loss: 0.3344 - val_accuracy: 0.8484 - val_loss: 0.3486\n",
      "Epoch 20/47\n",
      "\u001b[1m489/489\u001b[0m \u001b[32m━━━━━━━━━━━━━━━━━━━━\u001b[0m\u001b[37m\u001b[0m \u001b[1m1s\u001b[0m 1ms/step - accuracy: 0.8556 - loss: 0.3335 - val_accuracy: 0.8481 - val_loss: 0.3481\n",
      "Epoch 21/47\n",
      "\u001b[1m489/489\u001b[0m \u001b[32m━━━━━━━━━━━━━━━━━━━━\u001b[0m\u001b[37m\u001b[0m \u001b[1m1s\u001b[0m 1ms/step - accuracy: 0.8539 - loss: 0.3374 - val_accuracy: 0.8486 - val_loss: 0.3478\n",
      "Epoch 22/47\n",
      "\u001b[1m489/489\u001b[0m \u001b[32m━━━━━━━━━━━━━━━━━━━━\u001b[0m\u001b[37m\u001b[0m \u001b[1m1s\u001b[0m 1ms/step - accuracy: 0.8567 - loss: 0.3314 - val_accuracy: 0.8472 - val_loss: 0.3494\n",
      "Epoch 23/47\n",
      "\u001b[1m489/489\u001b[0m \u001b[32m━━━━━━━━━━━━━━━━━━━━\u001b[0m\u001b[37m\u001b[0m \u001b[1m1s\u001b[0m 1ms/step - accuracy: 0.8539 - loss: 0.3398 - val_accuracy: 0.8468 - val_loss: 0.3502\n",
      "Epoch 24/47\n",
      "\u001b[1m489/489\u001b[0m \u001b[32m━━━━━━━━━━━━━━━━━━━━\u001b[0m\u001b[37m\u001b[0m \u001b[1m1s\u001b[0m 1ms/step - accuracy: 0.8556 - loss: 0.3328 - val_accuracy: 0.8477 - val_loss: 0.3490\n",
      "Epoch 25/47\n",
      "\u001b[1m489/489\u001b[0m \u001b[32m━━━━━━━━━━━━━━━━━━━━\u001b[0m\u001b[37m\u001b[0m \u001b[1m1s\u001b[0m 1ms/step - accuracy: 0.8540 - loss: 0.3314 - val_accuracy: 0.8498 - val_loss: 0.3491\n",
      "Epoch 26/47\n",
      "\u001b[1m489/489\u001b[0m \u001b[32m━━━━━━━━━━━━━━━━━━━━\u001b[0m\u001b[37m\u001b[0m \u001b[1m1s\u001b[0m 1ms/step - accuracy: 0.8523 - loss: 0.3371 - val_accuracy: 0.8481 - val_loss: 0.3493\n",
      "Epoch 27/47\n",
      "\u001b[1m489/489\u001b[0m \u001b[32m━━━━━━━━━━━━━━━━━━━━\u001b[0m\u001b[37m\u001b[0m \u001b[1m1s\u001b[0m 1ms/step - accuracy: 0.8586 - loss: 0.3320 - val_accuracy: 0.8476 - val_loss: 0.3492\n",
      "Epoch 28/47\n",
      "\u001b[1m489/489\u001b[0m \u001b[32m━━━━━━━━━━━━━━━━━━━━\u001b[0m\u001b[37m\u001b[0m \u001b[1m1s\u001b[0m 1ms/step - accuracy: 0.8558 - loss: 0.3330 - val_accuracy: 0.8485 - val_loss: 0.3490\n",
      "Epoch 29/47\n",
      "\u001b[1m489/489\u001b[0m \u001b[32m━━━━━━━━━━━━━━━━━━━━\u001b[0m\u001b[37m\u001b[0m \u001b[1m1s\u001b[0m 1ms/step - accuracy: 0.8562 - loss: 0.3302 - val_accuracy: 0.8477 - val_loss: 0.3508\n",
      "Epoch 30/47\n",
      "\u001b[1m489/489\u001b[0m \u001b[32m━━━━━━━━━━━━━━━━━━━━\u001b[0m\u001b[37m\u001b[0m \u001b[1m1s\u001b[0m 1ms/step - accuracy: 0.8546 - loss: 0.3325 - val_accuracy: 0.8484 - val_loss: 0.3506\n",
      "Epoch 31/47\n",
      "\u001b[1m489/489\u001b[0m \u001b[32m━━━━━━━━━━━━━━━━━━━━\u001b[0m\u001b[37m\u001b[0m \u001b[1m1s\u001b[0m 1ms/step - accuracy: 0.8555 - loss: 0.3370 - val_accuracy: 0.8485 - val_loss: 0.3500\n",
      "Epoch 32/47\n",
      "\u001b[1m489/489\u001b[0m \u001b[32m━━━━━━━━━━━━━━━━━━━━\u001b[0m\u001b[37m\u001b[0m \u001b[1m1s\u001b[0m 1ms/step - accuracy: 0.8517 - loss: 0.3387 - val_accuracy: 0.8475 - val_loss: 0.3498\n",
      "Epoch 33/47\n",
      "\u001b[1m489/489\u001b[0m \u001b[32m━━━━━━━━━━━━━━━━━━━━\u001b[0m\u001b[37m\u001b[0m \u001b[1m1s\u001b[0m 1ms/step - accuracy: 0.8579 - loss: 0.3320 - val_accuracy: 0.8482 - val_loss: 0.3502\n",
      "Epoch 34/47\n",
      "\u001b[1m489/489\u001b[0m \u001b[32m━━━━━━━━━━━━━━━━━━━━\u001b[0m\u001b[37m\u001b[0m \u001b[1m1s\u001b[0m 1ms/step - accuracy: 0.8539 - loss: 0.3335 - val_accuracy: 0.8484 - val_loss: 0.3491\n",
      "Epoch 35/47\n",
      "\u001b[1m489/489\u001b[0m \u001b[32m━━━━━━━━━━━━━━━━━━━━\u001b[0m\u001b[37m\u001b[0m \u001b[1m1s\u001b[0m 1ms/step - accuracy: 0.8534 - loss: 0.3356 - val_accuracy: 0.8479 - val_loss: 0.3491\n",
      "Epoch 36/47\n",
      "\u001b[1m489/489\u001b[0m \u001b[32m━━━━━━━━━━━━━━━━━━━━\u001b[0m\u001b[37m\u001b[0m \u001b[1m1s\u001b[0m 1ms/step - accuracy: 0.8599 - loss: 0.3264 - val_accuracy: 0.8468 - val_loss: 0.3492\n",
      "Epoch 37/47\n",
      "\u001b[1m489/489\u001b[0m \u001b[32m━━━━━━━━━━━━━━━━━━━━\u001b[0m\u001b[37m\u001b[0m \u001b[1m1s\u001b[0m 1ms/step - accuracy: 0.8599 - loss: 0.3278 - val_accuracy: 0.8488 - val_loss: 0.3488\n",
      "Epoch 38/47\n",
      "\u001b[1m489/489\u001b[0m \u001b[32m━━━━━━━━━━━━━━━━━━━━\u001b[0m\u001b[37m\u001b[0m \u001b[1m1s\u001b[0m 1ms/step - accuracy: 0.8534 - loss: 0.3364 - val_accuracy: 0.8476 - val_loss: 0.3490\n",
      "Epoch 39/47\n",
      "\u001b[1m489/489\u001b[0m \u001b[32m━━━━━━━━━━━━━━━━━━━━\u001b[0m\u001b[37m\u001b[0m \u001b[1m1s\u001b[0m 1ms/step - accuracy: 0.8555 - loss: 0.3353 - val_accuracy: 0.8476 - val_loss: 0.3506\n",
      "Epoch 40/47\n",
      "\u001b[1m489/489\u001b[0m \u001b[32m━━━━━━━━━━━━━━━━━━━━\u001b[0m\u001b[37m\u001b[0m \u001b[1m1s\u001b[0m 1ms/step - accuracy: 0.8572 - loss: 0.3336 - val_accuracy: 0.8488 - val_loss: 0.3495\n",
      "Epoch 41/47\n",
      "\u001b[1m489/489\u001b[0m \u001b[32m━━━━━━━━━━━━━━━━━━━━\u001b[0m\u001b[37m\u001b[0m \u001b[1m1s\u001b[0m 1ms/step - accuracy: 0.8591 - loss: 0.3313 - val_accuracy: 0.8473 - val_loss: 0.3497\n",
      "Epoch 42/47\n",
      "\u001b[1m489/489\u001b[0m \u001b[32m━━━━━━━━━━━━━━━━━━━━\u001b[0m\u001b[37m\u001b[0m \u001b[1m1s\u001b[0m 1ms/step - accuracy: 0.8578 - loss: 0.3314 - val_accuracy: 0.8479 - val_loss: 0.3493\n",
      "Epoch 43/47\n",
      "\u001b[1m489/489\u001b[0m \u001b[32m━━━━━━━━━━━━━━━━━━━━\u001b[0m\u001b[37m\u001b[0m \u001b[1m1s\u001b[0m 1ms/step - accuracy: 0.8577 - loss: 0.3293 - val_accuracy: 0.8488 - val_loss: 0.3496\n",
      "Epoch 44/47\n",
      "\u001b[1m489/489\u001b[0m \u001b[32m━━━━━━━━━━━━━━━━━━━━\u001b[0m\u001b[37m\u001b[0m \u001b[1m1s\u001b[0m 1ms/step - accuracy: 0.8591 - loss: 0.3315 - val_accuracy: 0.8486 - val_loss: 0.3495\n",
      "Epoch 45/47\n",
      "\u001b[1m489/489\u001b[0m \u001b[32m━━━━━━━━━━━━━━━━━━━━\u001b[0m\u001b[37m\u001b[0m \u001b[1m1s\u001b[0m 1ms/step - accuracy: 0.8553 - loss: 0.3343 - val_accuracy: 0.8489 - val_loss: 0.3498\n",
      "Epoch 46/47\n",
      "\u001b[1m489/489\u001b[0m \u001b[32m━━━━━━━━━━━━━━━━━━━━\u001b[0m\u001b[37m\u001b[0m \u001b[1m1s\u001b[0m 1ms/step - accuracy: 0.8547 - loss: 0.3333 - val_accuracy: 0.8480 - val_loss: 0.3495\n",
      "Epoch 47/47\n",
      "\u001b[1m489/489\u001b[0m \u001b[32m━━━━━━━━━━━━━━━━━━━━\u001b[0m\u001b[37m\u001b[0m \u001b[1m1s\u001b[0m 1ms/step - accuracy: 0.8559 - loss: 0.3340 - val_accuracy: 0.8490 - val_loss: 0.3494\n"
     ]
    },
    {
     "data": {
      "text/plain": [
       "<keras.src.callbacks.history.History at 0x260514a1270>"
      ]
     },
     "execution_count": 133,
     "metadata": {},
     "output_type": "execute_result"
    }
   ],
   "source": [
    "# 11. Genopbygning af modellen med bedste epoch\n",
    "best_epoch = np.argmin(history_dict['val_loss']) + 1  # Vælg den bedste epoch\n",
    "print(f\"Training the model with {best_epoch} epochs...\")\n",
    "\n",
    "model = keras.Sequential([\n",
    "    layers.Dense(16, activation='relu', input_shape=(X_train.shape[1],)),\n",
    "    layers.Dense(16, activation='relu'),\n",
    "    layers.Dense(1, activation='sigmoid')\n",
    "])\n",
    "model.compile(optimizer='rmsprop',\n",
    "              loss='binary_crossentropy',\n",
    "              metrics=['accuracy'])\n",
    "\n",
    "model.fit(X_train, y_train,\n",
    "          epochs=best_epoch,\n",
    "          batch_size=64,\n",
    "          validation_split=0.2)"
   ]
  },
  {
   "cell_type": "code",
   "execution_count": 134,
   "id": "c8dc2774",
   "metadata": {},
   "outputs": [
    {
     "name": "stdout",
     "output_type": "stream",
     "text": [
      "\u001b[1m306/306\u001b[0m \u001b[32m━━━━━━━━━━━━━━━━━━━━\u001b[0m\u001b[37m\u001b[0m \u001b[1m0s\u001b[0m 812us/step - accuracy: 0.8510 - loss: 0.3499\n",
      "Test Accuracy: 0.8520\n"
     ]
    }
   ],
   "source": [
    "# 12. Evaluering af modellen\n",
    "test_loss, test_acc = model.evaluate(X_test, y_test)\n",
    "print(f\"Test Accuracy: {test_acc:.4f}\")"
   ]
  },
  {
   "cell_type": "code",
   "execution_count": 135,
   "id": "0f39a08d",
   "metadata": {},
   "outputs": [
    {
     "name": "stdout",
     "output_type": "stream",
     "text": [
      "\u001b[1m306/306\u001b[0m \u001b[32m━━━━━━━━━━━━━━━━━━━━\u001b[0m\u001b[37m\u001b[0m \u001b[1m0s\u001b[0m 667us/step\n",
      "Precision: 0.6347\n",
      "Recall: 0.2608\n",
      "F1 Score: 0.3697\n"
     ]
    }
   ],
   "source": [
    "# 13. Beregning af precision, recall og F1-score\n",
    "y_pred = (model.predict(X_test) > 0.5).astype(\"int32\")\n",
    "\n",
    "precision = precision_score(y_test, y_pred)\n",
    "recall = recall_score(y_test, y_pred)\n",
    "f1 = f1_score(y_test, y_pred)\n",
    "\n",
    "print(f\"Precision: {precision:.4f}\")\n",
    "print(f\"Recall: {recall:.4f}\")\n",
    "print(f\"F1 Score: {f1:.4f}\")\n"
   ]
  },
  {
   "cell_type": "code",
   "execution_count": 136,
   "id": "8fbadb4b",
   "metadata": {},
   "outputs": [
    {
     "data": {
      "image/png": "[encoded data removed]",
      "text/plain": [
       "<Figure size 600x400 with 2 Axes>"
      ]
     },
     "metadata": {},
     "output_type": "display_data"
    }
   ],
   "source": [
    "# 14. Plot Confusion Matrix\n",
    "conf_matrix = confusion_matrix(y_test, y_pred)\n",
    "\n",
    "plt.figure(figsize=(6, 4))\n",
    "sns.heatmap(conf_matrix, annot=True, fmt='d', cmap='Blues')\n",
    "plt.title(\"Confusion Matrix\")\n",
    "plt.xlabel(\"Predicted\")\n",
    "plt.ylabel(\"Actual\")\n",
    "plt.show()"
   ]
  }
 ],
 "metadata": {
  "kernelspec": {
   "display_name": "Python 3",
   "language": "python",
   "name": "python3"
  },
  "language_info": {
   "codemirror_mode": {
    "name": "ipython",
    "version": 3
   },
   "file_extension": ".py",
   "mimetype": "text/x-python",
   "name": "python",
   "nbconvert_exporter": "python",
   "pygments_lexer": "ipython3",
   "version": "3.10.16"
  }
 },
 "nbformat": 4,
 "nbformat_minor": 5
}
