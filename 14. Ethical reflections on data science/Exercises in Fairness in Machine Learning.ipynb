{
 "cells": [
  {
   "cell_type": "markdown",
   "id": "28aa1c27-098d-4d9a-8bc7-fb8b18622a8a",
   "metadata": {},
   "source": [
    "# Exercises in Fairness in Machine Learning"
   ]
  },
  {
   "cell_type": "markdown",
   "id": "617225f5-aa08-4b00-b158-d1da4b52f649",
   "metadata": {},
   "source": [
    "## Exercise 1\n",
    "\n",
    "For this exercise, we will use the `adult` dataset (available on moodle or from the [UCI Machine Learning repository](https://archive.ics.uci.edu/dataset/2/adult)). Do the following:\n",
    "\n",
    "1. Load in the dataset and correct the error in the income column (replace the \".\" with the empty string such that there are only two categories).\n",
    "2. Create an X dataset using the variables \"age\", \"workclass\", \"education\", \"occupation\", \"race\", \"sex\", \"hours-per-week\". For the categorical variables with missing values, replace the missing values with a new category \"Unknown\". Also replace any values that are \"?\" with the value \"Unknown (using `str.replace`, for instance)\n",
    "3. Turn the five categorical variables in X into dummy variables and remove the original five variables (This will probably give you around 44 columns in X)\n",
    "4. Create the response variable y, such that it is 1 if the `income` variable in the adult dataset is `>50K` and 0 if the value is `<=50K`.\n",
    "5. Do a train-test split with 30% of the data for test (using `random_state=123`) and train a `XGBoost` classification model on the training data.\n",
    "6. Evaluate your models using various evaluation metrics and look at the confusion matrix of your model.\n",
    "7. To be able to calculate the various fairness metrics in regard to the variable `sex`, we need to construct two separate confusion matrices for the test dataset, one for `female` and one for `male`. First, create separate test sets for `female` and `male` as well as the predicted values for each gender. That is, create `X_test_female`, `X_test_male`, `y_test_female`, `y_test_male`, `y_pred_female`, and `y_pred_male`. (Hint: You can create `X_test_female` by `X_test_female = X_test[X_test[\"sex_Male\"] == 0]` and `y_test_male` by `y_test_male = y_test[X_test[\"sex_Male\"] == 1]`, for instance.)\n",
    "8. Calculate the accuracy for female and male for the XGBoost model and comment on the results.\n",
    "9. We can now create the True Positive (TP), True Negative (TN), False Positive (FP), and False Negative (FN) for each gender. That is, calculate the eight values `TP_f`, `TN_f`, `FP_f`, `FN_f`, `TP_m`, `TN_m`, `FP_m`, and `FN_m`. (Hint: You can calculate the False Positive for female (FP_f) by `FP_f = sum((y_test_female == 0) & (y_pred_female == 1))`.)\n",
    "10. Is there error rate balance across different genders, i.e. are the false positive rate (FPR) and false negative rate (FNR) the same across the two genders?\n",
    "11. Is there predictive parity across different genders?\n",
    "12. Is there Statistical parity across different genders?\n",
    "13. [Discussion question] Can your any of your models be used to make fair salary predictions?\n",
    "14. [Discussion question] In what sense is the `adult` dataset biased (unfair)?\n",
    "15. [Discussion question] If the dataset is biased, where could the bias potentially come from?\n",
    "16. [Optional] If you balance the number of males and females in the dataset (like we balanced the response variable in the Churn example), will you model become more fair?"
   ]
  },
  {
   "cell_type": "code",
   "execution_count": 131,
   "id": "7b37c437-a661-494f-b655-dbef1d77b0b3",
   "metadata": {},
   "outputs": [
    {
     "data": {
      "text/html": [
       "<div>\n",
       "<style scoped>\n",
       "    .dataframe tbody tr th:only-of-type {\n",
       "        vertical-align: middle;\n",
       "    }\n",
       "\n",
       "    .dataframe tbody tr th {\n",
       "        vertical-align: top;\n",
       "    }\n",
       "\n",
       "    .dataframe thead th {\n",
       "        text-align: right;\n",
       "    }\n",
       "</style>\n",
       "<table border=\"1\" class=\"dataframe\">\n",
       "  <thead>\n",
       "    <tr style=\"text-align: right;\">\n",
       "      <th></th>\n",
       "      <th>age</th>\n",
       "      <th>workclass</th>\n",
       "      <th>fnlwgt</th>\n",
       "      <th>education</th>\n",
       "      <th>education-num</th>\n",
       "      <th>marital-status</th>\n",
       "      <th>occupation</th>\n",
       "      <th>relationship</th>\n",
       "      <th>race</th>\n",
       "      <th>sex</th>\n",
       "      <th>capital-gain</th>\n",
       "      <th>capital-loss</th>\n",
       "      <th>hours-per-week</th>\n",
       "      <th>native-country</th>\n",
       "      <th>income</th>\n",
       "    </tr>\n",
       "  </thead>\n",
       "  <tbody>\n",
       "    <tr>\n",
       "      <th>0</th>\n",
       "      <td>39</td>\n",
       "      <td>State-gov</td>\n",
       "      <td>77516</td>\n",
       "      <td>Bachelors</td>\n",
       "      <td>13</td>\n",
       "      <td>Never-married</td>\n",
       "      <td>Adm-clerical</td>\n",
       "      <td>Not-in-family</td>\n",
       "      <td>White</td>\n",
       "      <td>Male</td>\n",
       "      <td>2174</td>\n",
       "      <td>0</td>\n",
       "      <td>40</td>\n",
       "      <td>United-States</td>\n",
       "      <td>&lt;=50K</td>\n",
       "    </tr>\n",
       "    <tr>\n",
       "      <th>1</th>\n",
       "      <td>50</td>\n",
       "      <td>Self-emp-not-inc</td>\n",
       "      <td>83311</td>\n",
       "      <td>Bachelors</td>\n",
       "      <td>13</td>\n",
       "      <td>Married-civ-spouse</td>\n",
       "      <td>Exec-managerial</td>\n",
       "      <td>Husband</td>\n",
       "      <td>White</td>\n",
       "      <td>Male</td>\n",
       "      <td>0</td>\n",
       "      <td>0</td>\n",
       "      <td>13</td>\n",
       "      <td>United-States</td>\n",
       "      <td>&lt;=50K</td>\n",
       "    </tr>\n",
       "    <tr>\n",
       "      <th>2</th>\n",
       "      <td>38</td>\n",
       "      <td>Private</td>\n",
       "      <td>215646</td>\n",
       "      <td>HS-grad</td>\n",
       "      <td>9</td>\n",
       "      <td>Divorced</td>\n",
       "      <td>Handlers-cleaners</td>\n",
       "      <td>Not-in-family</td>\n",
       "      <td>White</td>\n",
       "      <td>Male</td>\n",
       "      <td>0</td>\n",
       "      <td>0</td>\n",
       "      <td>40</td>\n",
       "      <td>United-States</td>\n",
       "      <td>&lt;=50K</td>\n",
       "    </tr>\n",
       "    <tr>\n",
       "      <th>3</th>\n",
       "      <td>53</td>\n",
       "      <td>Private</td>\n",
       "      <td>234721</td>\n",
       "      <td>11th</td>\n",
       "      <td>7</td>\n",
       "      <td>Married-civ-spouse</td>\n",
       "      <td>Handlers-cleaners</td>\n",
       "      <td>Husband</td>\n",
       "      <td>Black</td>\n",
       "      <td>Male</td>\n",
       "      <td>0</td>\n",
       "      <td>0</td>\n",
       "      <td>40</td>\n",
       "      <td>United-States</td>\n",
       "      <td>&lt;=50K</td>\n",
       "    </tr>\n",
       "    <tr>\n",
       "      <th>4</th>\n",
       "      <td>28</td>\n",
       "      <td>Private</td>\n",
       "      <td>338409</td>\n",
       "      <td>Bachelors</td>\n",
       "      <td>13</td>\n",
       "      <td>Married-civ-spouse</td>\n",
       "      <td>Prof-specialty</td>\n",
       "      <td>Wife</td>\n",
       "      <td>Black</td>\n",
       "      <td>Female</td>\n",
       "      <td>0</td>\n",
       "      <td>0</td>\n",
       "      <td>40</td>\n",
       "      <td>Cuba</td>\n",
       "      <td>&lt;=50K</td>\n",
       "    </tr>\n",
       "  </tbody>\n",
       "</table>\n",
       "</div>"
      ],
      "text/plain": [
       "   age         workclass  fnlwgt  education  education-num  \\\n",
       "0   39         State-gov   77516  Bachelors             13   \n",
       "1   50  Self-emp-not-inc   83311  Bachelors             13   \n",
       "2   38           Private  215646    HS-grad              9   \n",
       "3   53           Private  234721       11th              7   \n",
       "4   28           Private  338409  Bachelors             13   \n",
       "\n",
       "       marital-status         occupation   relationship   race     sex  \\\n",
       "0       Never-married       Adm-clerical  Not-in-family  White    Male   \n",
       "1  Married-civ-spouse    Exec-managerial        Husband  White    Male   \n",
       "2            Divorced  Handlers-cleaners  Not-in-family  White    Male   \n",
       "3  Married-civ-spouse  Handlers-cleaners        Husband  Black    Male   \n",
       "4  Married-civ-spouse     Prof-specialty           Wife  Black  Female   \n",
       "\n",
       "   capital-gain  capital-loss  hours-per-week native-country income  \n",
       "0          2174             0              40  United-States  <=50K  \n",
       "1             0             0              13  United-States  <=50K  \n",
       "2             0             0              40  United-States  <=50K  \n",
       "3             0             0              40  United-States  <=50K  \n",
       "4             0             0              40           Cuba  <=50K  "
      ]
     },
     "execution_count": 131,
     "metadata": {},
     "output_type": "execute_result"
    }
   ],
   "source": [
    "# 1. Load in the dataset and correct the error in the income column (replace the \".\" with the empty string such that there are only two categories).\n",
    "import pandas as pd\n",
    "\n",
    "# Indlæs datasættet\n",
    "data = pd.read_csv(\"adult.csv\")\n",
    "\n",
    "# Vis de første rækker for at få overblik\n",
    "data.head()\n"
   ]
  },
  {
   "cell_type": "code",
   "execution_count": 132,
   "id": "d09e1949",
   "metadata": {},
   "outputs": [
    {
     "name": "stdout",
     "output_type": "stream",
     "text": [
      "['<=50K' '>50K' '<=50K.' '>50K.']\n"
     ]
    }
   ],
   "source": [
    "# Undersøg værdierne i 'income'-kolonnen\n",
    "print(data['income'].unique())\n"
   ]
  },
  {
   "cell_type": "code",
   "execution_count": 133,
   "id": "b3839b5f",
   "metadata": {},
   "outputs": [],
   "source": [
    "# Fjern mellemrum, punktummer og eventuelle andre tegn\n",
    "data['income'] = data['income'].str.strip().str.replace('.', '', regex=False)\n"
   ]
  },
  {
   "cell_type": "code",
   "execution_count": 134,
   "id": "be5e61bb",
   "metadata": {},
   "outputs": [
    {
     "name": "stdout",
     "output_type": "stream",
     "text": [
      "['<=50K' '>50K']\n"
     ]
    }
   ],
   "source": [
    "print(data['income'].unique())\n"
   ]
  },
  {
   "cell_type": "markdown",
   "id": "665d75c4",
   "metadata": {},
   "source": [
    " **2 Create an X dataset using the variables \"age\", \"workclass\", \"education\", \"occupation\", \"race\", \"sex\", \"hours-per-week\". For the categorical variables with missing values, replace the missing values with a new category \"Unknown\". Also replace any values that are \"?\" with the value \"Unknown (using `str.replace`, for instance)**"
   ]
  },
  {
   "cell_type": "code",
   "execution_count": 135,
   "id": "2ace04f4",
   "metadata": {},
   "outputs": [
    {
     "name": "stdout",
     "output_type": "stream",
     "text": [
      "   age         workclass  education         occupation   race     sex  \\\n",
      "0   39         State-gov  Bachelors       Adm-clerical  White    Male   \n",
      "1   50  Self-emp-not-inc  Bachelors    Exec-managerial  White    Male   \n",
      "2   38           Private    HS-grad  Handlers-cleaners  White    Male   \n",
      "3   53           Private       11th  Handlers-cleaners  Black    Male   \n",
      "4   28           Private  Bachelors     Prof-specialty  Black  Female   \n",
      "\n",
      "   hours-per-week  \n",
      "0              40  \n",
      "1              13  \n",
      "2              40  \n",
      "3              40  \n",
      "4              40  \n"
     ]
    },
    {
     "name": "stderr",
     "output_type": "stream",
     "text": [
      "C:\\Users\\Thoma\\AppData\\Local\\Temp\\ipykernel_7248\\1284118882.py:9: FutureWarning: A value is trying to be set on a copy of a DataFrame or Series through chained assignment using an inplace method.\n",
      "The behavior will change in pandas 3.0. This inplace method will never work because the intermediate object on which we are setting values always behaves as a copy.\n",
      "\n",
      "For example, when doing 'df[col].method(value, inplace=True)', try using 'df.method({col: value}, inplace=True)' or df[col] = df[col].method(value) instead, to perform the operation inplace on the original object.\n",
      "\n",
      "\n",
      "  X[col].fillna(\"Unknown\", inplace=True)\n",
      "C:\\Users\\Thoma\\AppData\\Local\\Temp\\ipykernel_7248\\1284118882.py:9: SettingWithCopyWarning: \n",
      "A value is trying to be set on a copy of a slice from a DataFrame\n",
      "\n",
      "See the caveats in the documentation: https://pandas.pydata.org/pandas-docs/stable/user_guide/indexing.html#returning-a-view-versus-a-copy\n",
      "  X[col].fillna(\"Unknown\", inplace=True)\n",
      "C:\\Users\\Thoma\\AppData\\Local\\Temp\\ipykernel_7248\\1284118882.py:12: SettingWithCopyWarning: \n",
      "A value is trying to be set on a copy of a slice from a DataFrame.\n",
      "Try using .loc[row_indexer,col_indexer] = value instead\n",
      "\n",
      "See the caveats in the documentation: https://pandas.pydata.org/pandas-docs/stable/user_guide/indexing.html#returning-a-view-versus-a-copy\n",
      "  X[col] = X[col].str.replace(\"?\", \"Unknown\")\n"
     ]
    }
   ],
   "source": [
    "# Step 1: select the specified columns\n",
    "X = data[[\"age\", \"workclass\",\"education\",\"occupation\",\"race\",\"sex\",\"hours-per-week\"]]\n",
    "\n",
    "# Step 2: Replace missing values and \"?\" with \"Unknown\"\n",
    "categorical_columns={\"workclass\",\"education\",\"occupation\",\"race\",\"sex\"} \n",
    "\n",
    "for col in categorical_columns:\n",
    "    # Replace missing values (NaN) with \"Unknown\"\n",
    "    X[col].fillna(\"Unknown\", inplace=True)\n",
    "\n",
    "    # Replace \"?\" with \"Unknown\"\n",
    "    X[col] = X[col].str.replace(\"?\", \"Unknown\")\n",
    "\n",
    "    \n",
    "print(X.head())"
   ]
  },
  {
   "cell_type": "code",
   "execution_count": 136,
   "id": "f3b302f9",
   "metadata": {},
   "outputs": [
    {
     "name": "stdout",
     "output_type": "stream",
     "text": [
      "age               0\n",
      "workclass         0\n",
      "education         0\n",
      "occupation        0\n",
      "race              0\n",
      "sex               0\n",
      "hours-per-week    0\n",
      "dtype: int64\n"
     ]
    }
   ],
   "source": [
    "# Step 3: Check for NaN values\n",
    "print(X.isna().sum())\n"
   ]
  },
  {
   "cell_type": "code",
   "execution_count": 137,
   "id": "a31ce657",
   "metadata": {},
   "outputs": [
    {
     "name": "stdout",
     "output_type": "stream",
     "text": [
      "workclass\n",
      "Private             33906\n",
      "Self-emp-not-inc     3862\n",
      "Local-gov            3136\n",
      "Unknown              2799\n",
      "State-gov            1981\n",
      "Self-emp-inc         1695\n",
      "Federal-gov          1432\n",
      "Without-pay            21\n",
      "Never-worked           10\n",
      "Name: count, dtype: int64\n",
      "occupation\n",
      "Prof-specialty       6172\n",
      "Craft-repair         6112\n",
      "Exec-managerial      6086\n",
      "Adm-clerical         5611\n",
      "Sales                5504\n",
      "Other-service        4923\n",
      "Machine-op-inspct    3022\n",
      "Unknown              2809\n",
      "Transport-moving     2355\n",
      "Handlers-cleaners    2072\n",
      "Farming-fishing      1490\n",
      "Tech-support         1446\n",
      "Protective-serv       983\n",
      "Priv-house-serv       242\n",
      "Armed-Forces           15\n",
      "Name: count, dtype: int64\n"
     ]
    }
   ],
   "source": [
    "print(X['workclass'].value_counts())\n",
    "print(X['occupation'].value_counts())\n"
   ]
  },
  {
   "cell_type": "code",
   "execution_count": 138,
   "id": "b53919fd",
   "metadata": {},
   "outputs": [
    {
     "name": "stdout",
     "output_type": "stream",
     "text": [
      "age               0\n",
      "workclass         0\n",
      "education         0\n",
      "occupation        0\n",
      "race              0\n",
      "sex               0\n",
      "hours-per-week    0\n",
      "dtype: int64\n"
     ]
    }
   ],
   "source": [
    "print((X == '?').sum())\n"
   ]
  },
  {
   "cell_type": "code",
   "execution_count": 139,
   "id": "dc17d0cc",
   "metadata": {},
   "outputs": [
    {
     "data": {
      "text/plain": [
       "(48842, 44)"
      ]
     },
     "execution_count": 139,
     "metadata": {},
     "output_type": "execute_result"
    }
   ],
   "source": [
    "# 3 Turn the five categorical variables in X into dummy variables and remove the original five variables (This will probably give you around 44 columns in X)\n",
    "X = pd.get_dummies(X, columns=['workclass', 'education', 'occupation', 'race', 'sex'], drop_first=True)\n",
    "\n",
    "X.shape\n"
   ]
  },
  {
   "cell_type": "code",
   "execution_count": 140,
   "id": "87675f73",
   "metadata": {},
   "outputs": [
    {
     "name": "stdout",
     "output_type": "stream",
     "text": [
      "Index(['age', 'hours-per-week', 'workclass_Local-gov',\n",
      "       'workclass_Never-worked', 'workclass_Private', 'workclass_Self-emp-inc',\n",
      "       'workclass_Self-emp-not-inc', 'workclass_State-gov',\n",
      "       'workclass_Unknown', 'workclass_Without-pay', 'education_11th',\n",
      "       'education_12th', 'education_1st-4th', 'education_5th-6th',\n",
      "       'education_7th-8th', 'education_9th', 'education_Assoc-acdm',\n",
      "       'education_Assoc-voc', 'education_Bachelors', 'education_Doctorate',\n",
      "       'education_HS-grad', 'education_Masters', 'education_Preschool',\n",
      "       'education_Prof-school', 'education_Some-college',\n",
      "       'occupation_Armed-Forces', 'occupation_Craft-repair',\n",
      "       'occupation_Exec-managerial', 'occupation_Farming-fishing',\n",
      "       'occupation_Handlers-cleaners', 'occupation_Machine-op-inspct',\n",
      "       'occupation_Other-service', 'occupation_Priv-house-serv',\n",
      "       'occupation_Prof-specialty', 'occupation_Protective-serv',\n",
      "       'occupation_Sales', 'occupation_Tech-support',\n",
      "       'occupation_Transport-moving', 'occupation_Unknown',\n",
      "       'race_Asian-Pac-Islander', 'race_Black', 'race_Other', 'race_White',\n",
      "       'sex_Male'],\n",
      "      dtype='object')\n"
     ]
    }
   ],
   "source": [
    "print(X.columns)\n"
   ]
  },
  {
   "cell_type": "code",
   "execution_count": 141,
   "id": "b2a3e631",
   "metadata": {},
   "outputs": [],
   "source": [
    "# 4 Create the response variable y, such that it is 1 if the `income` variable in the adult dataset is `>50K` and 0 if the value is `<=50K`.\n",
    "\n",
    "# Opret y som en binær variabel\n",
    "y = (data['income'] == '>50K').astype(int)\n"
   ]
  },
  {
   "cell_type": "markdown",
   "id": "e9516f46",
   "metadata": {},
   "source": [
    "(data['income'] == '>50K') returnerer en boolesk serie (True eller False).\n",
    "\n",
    ".astype(int) konverterer True til 1 og False til 0."
   ]
  },
  {
   "cell_type": "code",
   "execution_count": 142,
   "id": "3ebb6eec",
   "metadata": {},
   "outputs": [
    {
     "name": "stdout",
     "output_type": "stream",
     "text": [
      "income\n",
      "0    37155\n",
      "1    11687\n",
      "Name: count, dtype: int64\n",
      "0    0\n",
      "1    0\n",
      "2    0\n",
      "3    0\n",
      "4    0\n",
      "Name: income, dtype: int32\n"
     ]
    }
   ],
   "source": [
    "print(y.value_counts())\n",
    "print(y.head())\n"
   ]
  },
  {
   "cell_type": "code",
   "execution_count": 143,
   "id": "19c23364",
   "metadata": {},
   "outputs": [
    {
     "name": "stdout",
     "output_type": "stream",
     "text": [
      "Accuracy: 0.8195591346481949\n"
     ]
    }
   ],
   "source": [
    "# 5 Do a train-test split with 30% of the data for test (using `random_state=123`) and train a `XGBoost` classification model on the training data.\n",
    "\n",
    "import xgboost as xgb\n",
    "from sklearn.model_selection import train_test_split\n",
    "from sklearn.metrics import accuracy_score\n",
    "\n",
    "# Split data\n",
    "X_train, X_test, y_train, y_test = train_test_split(X, y, test_size=0.3, random_state=123)\n",
    "\n",
    "# Train the model\n",
    "model = xgb.XGBClassifier()\n",
    "model.fit(X_train, y_train)\n",
    "\n",
    "\n",
    "# Evaluate the model\n",
    "y_pred = model.predict(X_test)\n",
    "print(\"Accuracy:\", accuracy_score(y_test, y_pred))\n"
   ]
  },
  {
   "cell_type": "code",
   "execution_count": 144,
   "id": "7257c42a",
   "metadata": {},
   "outputs": [],
   "source": [
    "# 6 Evaluate your models using various evaluation metrics and look at the confusion matrix of your model.\n",
    "from sklearn.metrics import confusion_matrix, classification_report, ConfusionMatrixDisplay\n"
   ]
  },
  {
   "cell_type": "markdown",
   "id": "291904e2",
   "metadata": {},
   "source": [
    "Øverste række = Lav indkomst\n",
    "\n",
    "Nederste række = Høj indkomst\n",
    "\n",
    "Venstre side = Rigtige forudsigelser\n",
    "\n",
    "Højre side = Forkerte forudsigelser"
   ]
  },
  {
   "cell_type": "code",
   "execution_count": 145,
   "id": "e92ea434",
   "metadata": {},
   "outputs": [
    {
     "name": "stdout",
     "output_type": "stream",
     "text": [
      "Confusion Matrix:\n",
      "[[10361   805]\n",
      " [ 1839  1648]]\n",
      "\n",
      "Classification Report:\n",
      "              precision    recall  f1-score   support\n",
      "\n",
      "           0       0.85      0.93      0.89     11166\n",
      "           1       0.67      0.47      0.55      3487\n",
      "\n",
      "    accuracy                           0.82     14653\n",
      "   macro avg       0.76      0.70      0.72     14653\n",
      "weighted avg       0.81      0.82      0.81     14653\n",
      "\n"
     ]
    }
   ],
   "source": [
    "\n",
    "# Confusion Matrix\n",
    "print(\"Confusion Matrix:\")\n",
    "print(confusion_matrix(y_test, y_pred))\n",
    "\n",
    "# Klassifikationsrapport (præcision, recall, F1-score)\n",
    "print(\"\\nClassification Report:\")\n",
    "print(classification_report(y_test, y_pred))\n",
    "\n"
   ]
  },
  {
   "cell_type": "markdown",
   "id": "9f7dff43",
   "metadata": {},
   "source": [
    "**Confusion Matrix** \n",
    "\n",
    "**10361** korrekt forudsagte med lav indkomst (0)\n",
    "\n",
    "**805** personer med lav indkomst(0) som fejlagtigt blev forudsagt som høj indkomst\n",
    "\n",
    "**1839** personer med høj indkomst (1) som som fejlagtigt blev forudsagt som lav indkomst\n",
    "\n",
    "**1648** korrekt forudsagte personer med høj indkomst (1)\n",
    "\n",
    "Modellen er god til at forudsige personer med lav indkomst (klasse 0) — 10361 korrekte ud af 11166.\n",
    "\n",
    "Modellen har sværere ved at identificere personer med høj indkomst (klasse 1) — 1839 fejlklassifikationer ud af 3487."
   ]
  },
  {
   "cell_type": "markdown",
   "id": "f6b4fb36",
   "metadata": {},
   "source": [
    "**Precision (Præcision):** Hvor præcist modellen forudsiger hver klasse.\n",
    "\n",
    "**Klasse 0:** 0.85 → Når modellen siger \"lav indkomst\", er den rigtig 85% af gangene.\n",
    "\n",
    "**Klasse 1:** 0.67 → Når modellen siger \"høj indkomst\", er den kun rigtig 67% af gangene.\n",
    "\n",
    "Høj præcision for klasse 0, men middel præcision for klasse 1.\n",
    "\n"
   ]
  },
  {
   "cell_type": "markdown",
   "id": "e2ddf469",
   "metadata": {},
   "source": [
    "**Recall (Genkaldelse):** Hvor godt modellen fanger de faktiske positive tilfælde.\n",
    "\n",
    "**Klasse 0:** 0.93 → 93% af de personer, der faktisk har lav indkomst, blev korrekt identificeret.\n",
    "\n",
    "**Klasse 1:** 0.47 → Kun 47% af de personer, der faktisk har høj indkomst, blev korrekt identificeret.\n",
    "\n",
    "Recall for klasse 1 er lav — modellen misser mange personer med høj indkomst."
   ]
  },
  {
   "cell_type": "markdown",
   "id": "37b160ee",
   "metadata": {},
   "source": [
    "**F1-score:** En kombination af precision og recall (giver en samlet vurdering).\n",
    "\n",
    "**Klasse 0:** 0.89 (God samlet præstation)\n",
    "\n",
    "**Klasse 1:** 0.55 (Dårlig samlet præstation for høj indkomst)\n"
   ]
  },
  {
   "cell_type": "code",
   "execution_count": 146,
   "id": "a2841363",
   "metadata": {},
   "outputs": [],
   "source": [
    "# 7 To be able to calculate the various fairness metrics in regard to the variable sex, we need to construct two separate confusion matrices for the test dataset, one for female and one for male. First, create separate test sets for female and male as well as the predicted values for each gender. That is, create X_test_female, X_test_male, y_test_female, y_test_male, y_pred_female, and y_pred_male. (Hint: You can create X_test_female by X_test_female = X_test[X_test[\"sex_Male\"] == 0] and y_test_male by y_test_male = y_test[X_test[\"sex_Male\"] == 1], for instance.)\n",
    "\n",
    "# Opret separate test-sæt for kvinder og mænd\n",
    "X_test_female = X_test[X_test[\"sex_Male\"] == 0]\n",
    "X_test_male = X_test[X_test[\"sex_Male\"] == 1]\n",
    "\n",
    "# Opret de tilsvarende labels (y_test)\n",
    "y_test_female = y_test[X_test[\"sex_Male\"] == 0]\n",
    "y_test_male = y_test[X_test[\"sex_Male\"] == 1]\n"
   ]
  },
  {
   "cell_type": "code",
   "execution_count": 147,
   "id": "1ec54d47",
   "metadata": {},
   "outputs": [],
   "source": [
    "# Forudsigelser for kvinder\n",
    "y_pred_female = model.predict(X_test_female)\n",
    "\n",
    "# Forudsigelser for mænd\n",
    "y_pred_male = model.predict(X_test_male)\n"
   ]
  },
  {
   "cell_type": "markdown",
   "id": "98e5d19b",
   "metadata": {},
   "source": [
    "Øverste række = Lav indkomst\n",
    "\n",
    "Nederste række = Høj indkomst\n",
    "\n",
    "Venstre side = Rigtige forudsigelser \n",
    "\n",
    "Højre side = Forkerte forudsigelser"
   ]
  },
  {
   "cell_type": "code",
   "execution_count": 148,
   "id": "b6e3213e",
   "metadata": {},
   "outputs": [
    {
     "name": "stdout",
     "output_type": "stream",
     "text": [
      "Confusion Matrix - Female:\n",
      "[[4303   67]\n",
      " [ 428   56]]\n",
      "\n",
      "Confusion Matrix - Male:\n",
      "[[6058  738]\n",
      " [1411 1592]]\n"
     ]
    }
   ],
   "source": [
    "from sklearn.metrics import confusion_matrix, classification_report\n",
    "\n",
    "# Confusion Matrix for kvinder\n",
    "print(\"Confusion Matrix - Female:\")\n",
    "print(confusion_matrix(y_test_female, y_pred_female))\n",
    "\n",
    "# Confusion Matrix for mænd\n",
    "print(\"\\nConfusion Matrix - Male:\")\n",
    "print(confusion_matrix(y_test_male, y_pred_male))\n"
   ]
  },
  {
   "cell_type": "code",
   "execution_count": 149,
   "id": "194927d1",
   "metadata": {},
   "outputs": [
    {
     "name": "stdout",
     "output_type": "stream",
     "text": [
      "Accuracy for kvinder: 0.898\n",
      "Accuracy for mænd: 0.781\n"
     ]
    }
   ],
   "source": [
    "# 8. Calculate the accuracy for female and male for the XGBoost model and comment on the results.\n",
    "\n",
    "\n",
    "# Beregn accuracy\n",
    "accuracy_female = accuracy_score(y_test_female, y_pred_female)\n",
    "accuracy_male = accuracy_score(y_test_male, y_pred_male)\n",
    "\n",
    "print(f\"Accuracy for kvinder: {accuracy_female:.3f}\")\n",
    "print(f\"Accuracy for mænd: {accuracy_male:.3f}\")\n"
   ]
  },
  {
   "cell_type": "markdown",
   "id": "7445303f",
   "metadata": {},
   "source": [
    "Modellen præsterer meget godt for kvinder, hvilket kan indikere, at data for denne gruppe er lettere for modellen at forstå — fx hvis der er færre ubalancer eller tydeligere mønstre.\n",
    "\n",
    "Modellen præsterer væsentligt dårligere for mænd. Dette kan skyldes, at data for mænd er mere varieret eller at modellen har sværere ved at genkende mønstre blandt mænd.\n",
    "\n",
    "Modellen klarer sig bedre på kvinder end på mænd, men det er vigtigt at huske, at recall og præcision for kvinder med høj indkomst tidligere var meget lav."
   ]
  },
  {
   "cell_type": "markdown",
   "id": "84b27560",
   "metadata": {},
   "source": [
    " **9. We can now create the True Positive (TP), True Negative (TN), False Positive (FP), and False Negative (FN) for each gender.** \n",
    " \n",
    " That is, calculate the eight values `TP_f`, `TN_f`, `FP_f`, `FN_f`, `TP_m`, `TN_m`, `FP_m`, and `FN_m`.\n",
    "\n",
    "  (Hint: You can calculate the False Positive for female (FP_f) by `FP_f = sum((y_test_female == 0) & (y_pred_female == 1))`.)"
   ]
  },
  {
   "cell_type": "code",
   "execution_count": 150,
   "id": "80a6f78d",
   "metadata": {},
   "outputs": [],
   "source": [
    "# True Positive (TP_f): korrekt forudsigelse af høj indkomst for kvinder\n",
    "TP_f = sum((y_test_female == 1) & (y_pred_female == 1))\n",
    "\n",
    "# True Negative (TN_f): korrekt forudsigelse af lav indkomst for kvinder\n",
    "TN_f = sum((y_test_female == 0) & (y_pred_female == 0))\n",
    "\n",
    "# False Positive (FP_f): forudsigelse af høj indkomst, når det i virkeligheden er lav indkomst\n",
    "FP_f = sum((y_test_female == 0) & (y_pred_female == 1))\n",
    "\n",
    "# False Negative (FN_f): forudsigelse af lav indkomst, når det i virkeligheden er høj indkomst\n",
    "FN_f = sum((y_test_female == 1) & (y_pred_female == 0))\n"
   ]
  },
  {
   "cell_type": "code",
   "execution_count": 151,
   "id": "13485512",
   "metadata": {},
   "outputs": [],
   "source": [
    "# True Positive (TP_m): korrekt forudsigelse af høj indkomst for mænd\n",
    "TP_m = sum((y_test_male == 1) & (y_pred_male == 1))\n",
    "\n",
    "# True Negative (TN_m): korrekt forudsigelse af lav indkomst for mænd\n",
    "TN_m = sum((y_test_male == 0) & (y_pred_male == 0))\n",
    "\n",
    "# False Positive (FP_m): forudsigelse af høj indkomst, når det i virkeligheden er lav indkomst\n",
    "FP_m = sum((y_test_male == 0) & (y_pred_male == 1))\n",
    "\n",
    "# False Negative (FN_m): forudsigelse af lav indkomst, når det i virkeligheden er høj indkomst\n",
    "FN_m = sum((y_test_male == 1) & (y_pred_male == 0))\n"
   ]
  },
  {
   "cell_type": "code",
   "execution_count": 152,
   "id": "435eb0e2",
   "metadata": {},
   "outputs": [
    {
     "name": "stdout",
     "output_type": "stream",
     "text": [
      "TP_f: 56, TN_f: 4303, FP_f: 67, FN_f: 428\n",
      "TP_m: 1592, TN_m: 6058, FP_m: 738, FN_m: 1411\n"
     ]
    }
   ],
   "source": [
    "# Print resultater for kvinder (female)\n",
    "print(f\"TP_f: {TP_f}, TN_f: {TN_f}, FP_f: {FP_f}, FN_f: {FN_f}\")\n",
    "\n",
    "# Print resultater for mænd (male)\n",
    "print(f\"TP_m: {TP_m}, TN_m: {TN_m}, FP_m: {FP_m}, FN_m: {FN_m}\")\n"
   ]
  },
  {
   "cell_type": "code",
   "execution_count": 153,
   "id": "9a64051c",
   "metadata": {},
   "outputs": [
    {
     "name": "stdout",
     "output_type": "stream",
     "text": [
      "Female - FPR: 0.545, FNR: 0.090\n",
      "Male - FPR: 0.317, FNR: 0.189\n"
     ]
    }
   ],
   "source": [
    "# 10 Is there error rate balance across different genders, i.e. are the false positive rate (FPR) and false negative rate (FNR) the same across the two genders?\n",
    "\n",
    "# Beregn confusion matrix for kvinder\n",
    "cm_female = confusion_matrix(y_test_female, y_pred_female)\n",
    "\n",
    "# Beregn FPR og FNR for kvinder\n",
    "FPR_f = cm_female[0, 1] / (cm_female[0, 1] + cm_female[1, 1])  # FP / (FP + TN)\n",
    "FNR_f = cm_female[1, 0] / (cm_female[1, 0] + cm_female[0, 0])  # FN / (FN + TP)\n",
    "\n",
    "# Beregn confusion matrix for mænd\n",
    "cm_male = confusion_matrix(y_test_male, y_pred_male)\n",
    "\n",
    "# Beregn FPR og FNR for mænd\n",
    "FPR_m = cm_male[0, 1] / (cm_male[0, 1] + cm_male[1, 1])  # FP / (FP + TN)\n",
    "FNR_m = cm_male[1, 0] / (cm_male[1, 0] + cm_male[0, 0])  # FN / (FN + TP)\n",
    "\n",
    "# Udskriv resultaterne\n",
    "print(f\"Female - FPR: {FPR_f:.3f}, FNR: {FNR_f:.3f}\")\n",
    "print(f\"Male - FPR: {FPR_m:.3f}, FNR: {FNR_m:.3f}\")\n"
   ]
  },
  {
   "cell_type": "markdown",
   "id": "ae89023f",
   "metadata": {},
   "source": [
    "There is an imbalance in the error rates between genders:\n",
    "\n",
    "The False Positive Rate (FPR) is higher for women (0.545), meaning that 54.5% of women who actually have low income are incorrectly predicted as having high income. In contrast, the FPR for men (0.317) is lower, with 31.7% of men who actually have low income being wrongly predicted as high income. This suggests that the model is more prone to incorrectly classifying women as having high income, which could indicate a potential bias against women in predicting low income.\n",
    "\n",
    "On the other hand, the False Negative Rate (FNR) is lower for women (0.090), meaning that only 9% of women with high income are incorrectly predicted as having low income. For men, the FNR is higher (0.189), with 18.9% of men with high income being wrongly predicted as having low income. This shows that the model is more accurate at identifying women with high income compared to men."
   ]
  },
  {
   "cell_type": "code",
   "execution_count": null,
   "id": "72010e59",
   "metadata": {},
   "outputs": [
    {
     "name": "stdout",
     "output_type": "stream",
     "text": [
      "Female - PPR: 0.025\n",
      "Male - PPR: 0.238\n"
     ]
    }
   ],
   "source": [
    "#11 Is there predictive parity across different genders?\n",
    "\n",
    "# Calculate Positive Prediction Rate (PPR) for females\n",
    "PPR_f = (TP_f + FP_f) / (TP_f + TN_f + FP_f + FN_f)\n",
    "\n",
    "# Calculate Positive Prediction Rate (PPR) for males\n",
    "PPR_m = (TP_m + FP_m) / (TP_m + TN_m + FP_m + FN_m)\n",
    "\n",
    "# Print the results\n",
    "print(f\"Female - PPR: {PPR_f:.3f}\")\n",
    "print(f\"Male - PPR: {PPR_m:.3f}\")\n"
   ]
  },
  {
   "cell_type": "markdown",
   "id": "ca533ff1",
   "metadata": {},
   "source": [
    "PPR for females is 0.025, meaning only 2.5% of the total predictions made for females were predicted as high income (positive class).\n",
    "\n",
    "PPR for males is 0.238, meaning 23.8% of the total predictions made for males were predicted as high income.\n",
    "\n",
    "Conclusion:\n",
    "\n",
    "There is a imbalance in predictive parity between genders. The model is making positive predictions (high income) much more frequently for males (23.8%) than for females (2.5%).\n",
    "\n",
    "This indicates that the model's predictions are not equally distributed between genders, and there may be a bias in the model's predictions favoring males over females.\n",
    "\n"
   ]
  },
  {
   "cell_type": "markdown",
   "id": "7020ad53",
   "metadata": {},
   "source": [
    "**12 Is there Statistical parity across different genders?**\n",
    "\n",
    "Statistical Parity requires that PPR for females and PPR for males should be the same or at least close to each other.\n",
    "\n",
    "There is no statistical parity across genders since the positive prediction rates for women (2.5%) and men (23.8%) differ.\n",
    "\n",
    " This suggests a bias in the model where it is making a lot more positive predictions for men than for women."
   ]
  },
  {
   "cell_type": "markdown",
   "id": "d67b8143",
   "metadata": {},
   "source": [
    "**13 [Discussion question] Can any of your models be used to make fair salary predictions?** \n",
    "\n",
    "Based on our results, the model shows no statistical parity (significant difference in Positive Prediction Rate between males and females), meaning there is no balance in how high income is predicted across genders. FPR is higher for females and FNR is lower for females, indicating bias in predictions, as fewer women are predicted to have high income.\n",
    "\n",
    "To achieve fair salary predictions, the model should:\n",
    "\n",
    "Avoid bias in the data, as the results show an imbalance in predictions between genders.\n",
    "Work towards statistical parity and predictive parity so that both males and females receive fair predictions.\n",
    "Further adjustments to the model are needed to ensure fairness in salary predictions."
   ]
  },
  {
   "cell_type": "markdown",
   "id": "56c992bb",
   "metadata": {},
   "source": [
    " **14  [Discussion question] In what sense is the `adult` dataset biased (unfair)?**\n",
    " \n",
    "The Adult dataset is biased because it reflects existing inequalities in society. There are historical wage gaps between men and women, meaning men often earn higher salaries, even with similar qualifications. Additionally, there can be differences in wages and job opportunities based on race, which creates bias in the dataset. Disparities in access to education and career opportunities also contribute to bias, as they affect income levels depending on one's background. Overall, the Adult dataset is biased because it mirrors societal inequalities, which can lead to unfair predictions if models are trained on it."
   ]
  },
  {
   "cell_type": "markdown",
   "id": "3f78970e",
   "metadata": {},
   "source": [
    "**15 [Discussion question] If the dataset is biased, where could the bias potentially come from?**\n",
    "\n",
    "The bias in the Adult dataset could possiblecome from existing societal inequalities, such as wage gaps and discrimination based on gender and race. \n",
    "There may also be sampling bias if certain groups are underrepresented, feature bias from using characteristics like gender or race, and data collection bias if certain groups are favored in the data."
   ]
  },
  {
   "cell_type": "markdown",
   "id": "48ad1b7c",
   "metadata": {},
   "source": [
    "**16 [Optional] If you balance the number of males and females in the dataset (like we balanced the response variable in the Churn example), will you model become more fair?**\n",
    "\n",
    "Balancing the number of males and females in the dataset might help reduce bias related to representation, but it doesn't guarantee fairness. \n",
    "model could still be biased if it relies on unfair features like gender or race."
   ]
  }
 ],
 "metadata": {
  "kernelspec": {
   "display_name": "Python 3",
   "language": "python",
   "name": "python3"
  },
  "language_info": {
   "codemirror_mode": {
    "name": "ipython",
    "version": 3
   },
   "file_extension": ".py",
   "mimetype": "text/x-python",
   "name": "python",
   "nbconvert_exporter": "python",
   "pygments_lexer": "ipython3",
   "version": "3.12.1"
  }
 },
 "nbformat": 4,
 "nbformat_minor": 5
}
