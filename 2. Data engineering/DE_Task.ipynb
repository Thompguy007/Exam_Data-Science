{
 "cells": [
  {
   "cell_type": "markdown",
   "metadata": {
    "id": "3kQ3BvyLehMH"
   },
   "source": [
    "## **Data Engineering Task Notebook**\n",
    "\n",
    "This notebook is designed to test you through various Data Engineering tasks using the Online Retail II dataset. The tasks will help you develop essential skills in data cleaning, feature engineering, and transforming raw data into valuable insights. You'll explore tasks like handling missing values, aggregating data, creating new features, and performing data joins to simulate real-world data workflows. These tasks will prepare you for more advanced data manipulation and analysis, enhancing your ability to work with large, complex datasets."
   ]
  },
  {
   "cell_type": "markdown",
   "metadata": {
    "id": "-6dqpBX8eayc"
   },
   "source": [
    "# **About the Dataset**\n",
    "This Online Retail II dataset contains transactional data from a UK-based online retailer selling unique gift-ware. The data covers transactions that occurred between December 1, 2009 and December 9, 2011. The retailer primarily serves both individual customers and wholesalers. The products sold by the company are all-occasion gift items, including home décor, kitchenware, and other unique items.\n",
    "\n",
    "The dataset includes detailed information on each transaction, providing valuable insights into customer behavior, sales trends, and product performance over time.\n",
    "\n",
    "\n",
    "\n",
    "## **What can be done with this dataset?**\n",
    "\n",
    "**Customer Behavior Analysis:** Explore purchasing patterns, repeat customers, and sales volume across different customer segments.\n",
    "\n",
    "**Sales Forecasting:** Predict future sales by analyzing past transactions, including seasonal trends and demand fluctuations.\n",
    "\n",
    "**Market Segmentation:** Identify customer groups based on purchase history and demographic data (e.g., by Country).\n",
    "\n",
    "**Product Performance:** Analyze which products are bestsellers and which have low turnover, and how prices influence sales.\n",
    "\n",
    "**Time Series Analysis:** Study trends over time, including hourly, daily, and monthly sales volumes, and identify peak shopping periods.\n",
    "\n",
    "**Anomaly Detection:** Detect potential fraudulent transactions, cancellations, or unusually high sales activity.\n",
    "Association Rule Mining: Discover products that are often purchased together and identify cross-sell opportunities.\n",
    "\n",
    "\n",
    "\n",
    "## **Key Attributes in the Dataset:**\n",
    "\n",
    "**InvoiceNo:** Unique transaction identifier (with cancellations indicated by 'C' prefix).\n",
    "\n",
    "**StockCode:** Unique product code for each item sold.\n",
    "\n",
    "**Description:** Name of the product/item sold.\n",
    "\n",
    "**Quantity:** Quantity of each product sold in the transaction\n",
    ".\n",
    "**InvoiceDate:** Date and time of the transaction.\n",
    "\n",
    "**UnitPrice:** Price per unit of the product.\n",
    "\n",
    "**CustomerID:** Unique identifier for each customer.\n",
    "\n",
    "**Country:** The country where the customer resides.\n",
    "\n",
    "This dataset is a great resource for learning and practicing various data analysis, machine learning, and business intelligence techniques."
   ]
  },
  {
   "cell_type": "markdown",
   "metadata": {
    "id": "pM9Nu--GV-9y"
   },
   "source": [
    "## **Exercise**\n",
    "Complete the following tasks:\n",
    "1. Load the [dataset](https://www.kaggle.com/datasets/lakshmi25npathi/online-retail-dataset) from Kaggle.\n",
    "2. Visualize the dataset and it's structure using appropriate libraries and plots.\n",
    "3. Do some basic cleaning to handle missing values\n",
    "4. Create the following features:\n",
    "  *   Revenue\n",
    "  *   DayOfWeek: to analyze sales trends by weekdays.\n",
    "  *   TotalRevenue for each CustomerID\n",
    "  *   Most popular product based on Revenue.\n",
    "  *   Ordersize by summing Quantity for each InvoiceNo\n",
    "5. Apply a lambda function to:\n",
    "  * Segment customers into tiers based on TotalRevenue (e.g., \"High\", \"Medium\", \"Low\").\n",
    "  * Extract key information from Description and add them as columns (e.g., presence of specific keywords like \"Gift\" or \"Discount\"). At least one extra column should be added\n",
    "  * Categorize transactions as \"Small\", \"Medium\", or \"Large\" based on Revenue.\n",
    "  * **Detect Seasonal Items:** Flag items as \"Christmas\"-themed if the description contains relevant words.\n",
    "  * Classify customers as \"Loyal\", \"Occasional\", or \"One-time\" based on the number of purchases.\n",
    "  *  **Identify Multi-Item Invoices:** Flag invoices with multiple unique items as \"Multi-Item Order\".\n",
    "7. Wrap all fo the above into an ETL pipeline.\n",
    "\n",
    "Extra tasks for practicing GroupBy\n",
    "1. Join CustomerID with TotalRevenue to create Customer_Revenue column\n",
    "2. Group by Country to find total revenue, total customers, and average order size per country.\n",
    "3. Group by StockCode to find top-selling products by quantity.\n",
    "4. Group by CustomerID to calculate the average order value or frequency of purchases."
   ]
  },
  {
   "cell_type": "code",
   "execution_count": 165,
   "metadata": {
    "executionInfo": {
     "elapsed": 2663,
     "status": "ok",
     "timestamp": 1738235045392,
     "user": {
      "displayName": "Sadaf Akhter",
      "userId": "13505825868431108941"
     },
     "user_tz": -360
    },
    "id": "GYdhe-Du1eHp"
   },
   "outputs": [],
   "source": [
    "import pandas as pd\n",
    "import numpy as np\n",
    "import matplotlib.pyplot as plt\n",
    "import seaborn as sns\n",
    "import kagglehub\n",
    "import os"
   ]
  },
  {
   "cell_type": "code",
   "execution_count": 166,
   "metadata": {
    "colab": {
     "base_uri": "https://localhost:8080/"
    },
    "executionInfo": {
     "elapsed": 4159,
     "status": "ok",
     "timestamp": 1738235049546,
     "user": {
      "displayName": "Sadaf Akhter",
      "userId": "13505825868431108941"
     },
     "user_tz": -360
    },
    "id": "O7c3o9JK1kKz",
    "outputId": "92db808b-6a34-4193-b6b6-e8cac6437aef"
   },
   "outputs": [
    {
     "name": "stdout",
     "output_type": "stream",
     "text": [
      "Path to dataset files: C:\\Users\\Thoma\\.cache\\kagglehub\\datasets\\lakshmi25npathi\\online-retail-dataset\\versions\\1\n"
     ]
    }
   ],
   "source": [
    "path = kagglehub.dataset_download(\"lakshmi25npathi/online-retail-dataset\")\n",
    "\n",
    "print(\"Path to dataset files:\", path)"
   ]
  },
  {
   "cell_type": "code",
   "execution_count": 167,
   "metadata": {
    "colab": {
     "base_uri": "https://localhost:8080/"
    },
    "executionInfo": {
     "elapsed": 7,
     "status": "ok",
     "timestamp": 1738235049546,
     "user": {
      "displayName": "Sadaf Akhter",
      "userId": "13505825868431108941"
     },
     "user_tz": -360
    },
    "id": "co3ZBAL51uhi",
    "outputId": "2d783fb0-9a5f-4374-b09a-6227aea59645"
   },
   "outputs": [
    {
     "name": "stdout",
     "output_type": "stream",
     "text": [
      "['online_retail_II.xlsx']\n"
     ]
    }
   ],
   "source": [
    "dataset_path = dataset_path = r\"C:\\Users\\Thoma\\.cache\\kagglehub\\datasets\\lakshmi25npathi\\online-retail-dataset\\versions\\1\"\n",
    "\n",
    "\n",
    "files = os.listdir(dataset_path)\n",
    "print(files)\n"
   ]
  },
  {
   "cell_type": "code",
   "execution_count": 168,
   "metadata": {
    "executionInfo": {
     "elapsed": 65950,
     "status": "ok",
     "timestamp": 1738235115491,
     "user": {
      "displayName": "Sadaf Akhter",
      "userId": "13505825868431108941"
     },
     "user_tz": -360
    },
    "id": "dpcmsUgf10QH"
   },
   "outputs": [
    {
     "name": "stdout",
     "output_type": "stream",
     "text": [
      "  Invoice StockCode                          Description  Quantity  \\\n",
      "0  489434     85048  15CM CHRISTMAS GLASS BALL 20 LIGHTS        12   \n",
      "1  489434    79323P                   PINK CHERRY LIGHTS        12   \n",
      "2  489434    79323W                  WHITE CHERRY LIGHTS        12   \n",
      "3  489434     22041         RECORD FRAME 7\" SINGLE SIZE         48   \n",
      "4  489434     21232       STRAWBERRY CERAMIC TRINKET BOX        24   \n",
      "\n",
      "          InvoiceDate  Price  Customer ID         Country  \n",
      "0 2009-12-01 07:45:00   6.95      13085.0  United Kingdom  \n",
      "1 2009-12-01 07:45:00   6.75      13085.0  United Kingdom  \n",
      "2 2009-12-01 07:45:00   6.75      13085.0  United Kingdom  \n",
      "3 2009-12-01 07:45:00   2.10      13085.0  United Kingdom  \n",
      "4 2009-12-01 07:45:00   1.25      13085.0  United Kingdom  \n"
     ]
    }
   ],
   "source": [
    "file_path = r\"C:\\Users\\Thoma\\.cache\\kagglehub\\datasets\\lakshmi25npathi\\online-retail-dataset\\versions\\1\\online_retail_II.xlsx\"\n",
    "df = pd.read_excel(file_path)\n",
    "print(df.head())\n"
   ]
  },
  {
   "cell_type": "code",
   "execution_count": 169,
   "metadata": {
    "colab": {
     "base_uri": "https://localhost:8080/"
    },
    "executionInfo": {
     "elapsed": 12,
     "status": "ok",
     "timestamp": 1738235115492,
     "user": {
      "displayName": "Sadaf Akhter",
      "userId": "13505825868431108941"
     },
     "user_tz": -360
    },
    "id": "Lph_J0Yn2lPk",
    "outputId": "9ee9b13f-779c-44db-a234-55c35e052335"
   },
   "outputs": [
    {
     "name": "stdout",
     "output_type": "stream",
     "text": [
      "<class 'pandas.core.frame.DataFrame'>\n",
      "RangeIndex: 525461 entries, 0 to 525460\n",
      "Data columns (total 8 columns):\n",
      " #   Column       Non-Null Count   Dtype         \n",
      "---  ------       --------------   -----         \n",
      " 0   Invoice      525461 non-null  object        \n",
      " 1   StockCode    525461 non-null  object        \n",
      " 2   Description  522533 non-null  object        \n",
      " 3   Quantity     525461 non-null  int64         \n",
      " 4   InvoiceDate  525461 non-null  datetime64[ns]\n",
      " 5   Price        525461 non-null  float64       \n",
      " 6   Customer ID  417534 non-null  float64       \n",
      " 7   Country      525461 non-null  object        \n",
      "dtypes: datetime64[ns](1), float64(2), int64(1), object(4)\n",
      "memory usage: 32.1+ MB\n",
      "None\n"
     ]
    }
   ],
   "source": [
    "print(df.info())"
   ]
  },
  {
   "cell_type": "code",
   "execution_count": 170,
   "metadata": {
    "colab": {
     "base_uri": "https://localhost:8080/"
    },
    "executionInfo": {
     "elapsed": 1199,
     "status": "ok",
     "timestamp": 1738235116682,
     "user": {
      "displayName": "Sadaf Akhter",
      "userId": "13505825868431108941"
     },
     "user_tz": -360
    },
    "id": "22LeyyfJ2edS",
    "outputId": "dfd3ecfd-6936-430f-fbc4-efe0ac4a6d5d"
   },
   "outputs": [
    {
     "name": "stdout",
     "output_type": "stream",
     "text": [
      "Invoice             0\n",
      "StockCode           0\n",
      "Description      2928\n",
      "Quantity            0\n",
      "InvoiceDate         0\n",
      "Price               0\n",
      "Customer ID    107927\n",
      "Country             0\n",
      "dtype: int64\n"
     ]
    }
   ],
   "source": [
    "print(df.isnull().sum())"
   ]
  },
  {
   "cell_type": "code",
   "execution_count": 171,
   "metadata": {
    "colab": {
     "base_uri": "https://localhost:8080/"
    },
    "executionInfo": {
     "elapsed": 2156,
     "status": "ok",
     "timestamp": 1738235118834,
     "user": {
      "displayName": "Sadaf Akhter",
      "userId": "13505825868431108941"
     },
     "user_tz": -360
    },
    "id": "8vGLQ9cA3TV-",
    "outputId": "f208ff69-3f35-47bd-9b9c-2949314420ba"
   },
   "outputs": [
    {
     "name": "stdout",
     "output_type": "stream",
     "text": [
      "Invoice        0\n",
      "StockCode      0\n",
      "Description    0\n",
      "Quantity       0\n",
      "InvoiceDate    0\n",
      "Price          0\n",
      "Customer ID    0\n",
      "Country        0\n",
      "dtype: int64\n"
     ]
    }
   ],
   "source": [
    "# Fill missing 'Description' using the most common value per 'StockCode'\n",
    "df['Description'] = df.groupby('StockCode')['Description'].transform(lambda x: x.fillna(x.mode()[0]) if not x.mode().empty else x)\n",
    "\n",
    "#Drop rows where 'Customer ID' is missing\n",
    "df = df.dropna(subset=['Customer ID'])\n",
    "\n",
    "print(df.isnull().sum())\n"
   ]
  },
  {
   "cell_type": "code",
   "execution_count": 172,
   "metadata": {
    "colab": {
     "base_uri": "https://localhost:8080/"
    },
    "executionInfo": {
     "elapsed": 1520,
     "status": "ok",
     "timestamp": 1738235120348,
     "user": {
      "displayName": "Sadaf Akhter",
      "userId": "13505825868431108941"
     },
     "user_tz": -360
    },
    "id": "FPIFYje_301D",
    "outputId": "7f3ae8d8-883f-4943-9450-29f9b1d8b738"
   },
   "outputs": [
    {
     "name": "stdout",
     "output_type": "stream",
     "text": [
      "6771\n"
     ]
    }
   ],
   "source": [
    "print(df.duplicated().sum())"
   ]
  },
  {
   "cell_type": "code",
   "execution_count": 173,
   "metadata": {
    "colab": {
     "base_uri": "https://localhost:8080/"
    },
    "executionInfo": {
     "elapsed": 7,
     "status": "ok",
     "timestamp": 1738235120349,
     "user": {
      "displayName": "Sadaf Akhter",
      "userId": "13505825868431108941"
     },
     "user_tz": -360
    },
    "id": "GtVhcBDC4CQU",
    "outputId": "ffebf3a2-53df-469b-e71b-2ada7d1df6e1"
   },
   "outputs": [
    {
     "name": "stdout",
     "output_type": "stream",
     "text": [
      "0\n"
     ]
    }
   ],
   "source": [
    "df.drop_duplicates(inplace=True)\n",
    "print(df.duplicated().sum())"
   ]
  },
  {
   "cell_type": "code",
   "execution_count": 174,
   "metadata": {},
   "outputs": [],
   "source": [
    "# Compute Revenue\n",
    "df[\"Revenue\"] = df[\"Quantity\"] * df[\"Price\"]"
   ]
  },
  {
   "cell_type": "code",
   "execution_count": 175,
   "metadata": {},
   "outputs": [
    {
     "name": "stdout",
     "output_type": "stream",
     "text": [
      "             InvoiceDate  DayOfWeek\n",
      "0    2009-12-01 07:45:00          1\n",
      "1    2009-12-01 07:45:00          1\n",
      "2    2009-12-01 07:45:00          1\n",
      "3    2009-12-01 07:45:00          1\n",
      "4    2009-12-01 07:45:00          1\n",
      "...                  ...        ...\n",
      "1029 2009-12-01 12:30:00          1\n",
      "1030 2009-12-01 12:30:00          1\n",
      "1031 2009-12-01 12:30:00          1\n",
      "1032 2009-12-01 12:30:00          1\n",
      "1033 2009-12-01 12:30:00          1\n",
      "\n",
      "[1000 rows x 2 columns]\n"
     ]
    }
   ],
   "source": [
    "# Tilføj en kolonne, der viser dagen i ugen (0 = mandag, 6 = søndag)\n",
    "df[\"DayOfWeek\"] = df[\"InvoiceDate\"].dt.dayofweek\n",
    "\n",
    "# Se resultatet\n",
    "print(df[['InvoiceDate', 'DayOfWeek']].head(1000))"
   ]
  },
  {
   "cell_type": "code",
   "execution_count": 176,
   "metadata": {},
   "outputs": [
    {
     "name": "stdout",
     "output_type": "stream",
     "text": [
      "DayOfWeek\n",
      "3    82722\n",
      "6    72158\n",
      "1    71753\n",
      "2    68182\n",
      "0    63995\n",
      "4    51553\n",
      "5      400\n",
      "Name: count, dtype: int64\n"
     ]
    }
   ],
   "source": [
    "print(df[\"DayOfWeek\"].value_counts())\n"
   ]
  },
  {
   "cell_type": "code",
   "execution_count": 177,
   "metadata": {},
   "outputs": [],
   "source": [
    "# Compute TotalRevenue for each Customer ID\n",
    "df[\"TotalRevenue\"] = df.groupby(\"Customer ID\")[\"Revenue\"].transform(\"sum\")"
   ]
  },
  {
   "cell_type": "code",
   "execution_count": 178,
   "metadata": {},
   "outputs": [
    {
     "name": "stdout",
     "output_type": "stream",
     "text": [
      "Most Popular Product: 85123A\n"
     ]
    }
   ],
   "source": [
    "# Find det produkt med den højeste samlede omsætning\n",
    "most_popular_product = df.groupby(\"StockCode\")[\"Revenue\"].sum().idxmax()\n",
    "\n",
    "print(\"Most Popular Product:\", most_popular_product)"
   ]
  },
  {
   "cell_type": "code",
   "execution_count": 179,
   "metadata": {},
   "outputs": [
    {
     "name": "stdout",
     "output_type": "stream",
     "text": [
      "  Invoice  Quantity  OrderSize\n",
      "0  489434        12        166\n",
      "1  489434        12        166\n",
      "2  489434        12        166\n",
      "3  489434        48        166\n",
      "4  489434        24        166\n",
      "5  489434        24        166\n",
      "6  489434        24        166\n",
      "7  489434        10        166\n",
      "8  489435        12         60\n",
      "9  489435        12         60\n"
     ]
    }
   ],
   "source": [
    "# Beregn ordre-størrelse ved at summere Quantity for hver InvoiceNo\n",
    "df[\"OrderSize\"] = df.groupby(\"Invoice\")[\"Quantity\"].transform(\"sum\")\n",
    "\n",
    "# Se de første rækker for at tjekke om det virker\n",
    "print(df[[\"Invoice\", \"Quantity\", \"OrderSize\"]].head(10))\n"
   ]
  },
  {
   "cell_type": "code",
   "execution_count": 180,
   "metadata": {},
   "outputs": [
    {
     "name": "stdout",
     "output_type": "stream",
     "text": [
      "   Customer ID  TotalRevenue CustomerTier\n",
      "0      13085.0       1187.08          Low\n",
      "1      13085.0       1187.08          Low\n",
      "2      13085.0       1187.08          Low\n",
      "3      13085.0       1187.08          Low\n",
      "4      13085.0       1187.08          Low\n",
      "5      13085.0       1187.08          Low\n",
      "6      13085.0       1187.08          Low\n",
      "7      13085.0       1187.08          Low\n",
      "8      13085.0       1187.08          Low\n",
      "9      13085.0       1187.08          Low\n"
     ]
    }
   ],
   "source": [
    "# Segmentér kunder baseret på TotalRevenue\n",
    "df[\"CustomerTier\"] = df[\"TotalRevenue\"].apply(lambda x: \"High\" if x > 10000 else \"Medium\" if x > 5000 else \"Low\")\n",
    "\n",
    "# Print de første 10 rækker for at tjekke resultatet\n",
    "print(df[[\"Customer ID\", \"TotalRevenue\", \"CustomerTier\"]].head(10))\n"
   ]
  },
  {
   "cell_type": "code",
   "execution_count": 181,
   "metadata": {},
   "outputs": [
    {
     "name": "stdout",
     "output_type": "stream",
     "text": [
      "                           Description  IsGift  IsDiscount\n",
      "0  15CM CHRISTMAS GLASS BALL 20 LIGHTS       0           0\n",
      "1                   PINK CHERRY LIGHTS       0           0\n",
      "2                  WHITE CHERRY LIGHTS       0           0\n",
      "3         RECORD FRAME 7\" SINGLE SIZE        0           0\n",
      "4       STRAWBERRY CERAMIC TRINKET BOX       0           0\n",
      "5           PINK DOUGHNUT TRINKET POT        0           0\n",
      "6                  SAVE THE PLANET MUG       0           0\n",
      "7   FANCY FONT HOME SWEET HOME DOORMAT       0           0\n",
      "8                            CAT BOWL        0           0\n",
      "9       DOG BOWL , CHASING BALL DESIGN       0           0\n",
      "Gaveprodukter: 4307\n",
      "Rabatprodukter: 97\n"
     ]
    }
   ],
   "source": [
    "df[\"IsGift\"] = df[\"Description\"].apply(lambda x: 1 if \"GIFT\" in str(x).upper() else 0)\n",
    "df[\"IsDiscount\"] = df[\"Description\"].apply(lambda x: 1 if \"DISCOUNT\" in str(x).upper() else 0)\n",
    "\n",
    "# Se de første 10 rækker med Description, IsGift og IsDiscount\n",
    "print(df[[\"Description\", \"IsGift\", \"IsDiscount\"]].head(10))\n",
    "\n",
    "# Tæl, hvor mange produkter der er markeret som gaver eller rabatter\n",
    "print(\"Gaveprodukter:\", df[\"IsGift\"].sum())\n",
    "print(\"Rabatprodukter:\", df[\"IsDiscount\"].sum())\n"
   ]
  },
  {
   "cell_type": "code",
   "execution_count": 182,
   "metadata": {},
   "outputs": [
    {
     "name": "stdout",
     "output_type": "stream",
     "text": [
      "   Revenue TransactionCategory\n",
      "0     83.4              Medium\n",
      "1     81.0              Medium\n",
      "2     81.0              Medium\n",
      "3    100.8               Large\n",
      "4     30.0              Medium\n",
      "5     39.6              Medium\n",
      "6     30.0              Medium\n",
      "7     59.5              Medium\n",
      "8     30.6              Medium\n",
      "9     45.0              Medium\n"
     ]
    }
   ],
   "source": [
    "df[\"TransactionCategory\"] = df[\"Revenue\"].apply(lambda x: \n",
    "    \"Small\" if x < 10 else (\"Medium\" if x < 100 else \"Large\"))\n",
    "\n",
    "print(df[[\"Revenue\", \"TransactionCategory\"]].head(10))\n"
   ]
  },
  {
   "cell_type": "code",
   "execution_count": 183,
   "metadata": {},
   "outputs": [
    {
     "name": "stdout",
     "output_type": "stream",
     "text": [
      "                           Description  IsChristmasItem\n",
      "0  15CM CHRISTMAS GLASS BALL 20 LIGHTS                1\n",
      "1                   PINK CHERRY LIGHTS                0\n",
      "2                  WHITE CHERRY LIGHTS                0\n",
      "3         RECORD FRAME 7\" SINGLE SIZE                 0\n",
      "4       STRAWBERRY CERAMIC TRINKET BOX                0\n",
      "5           PINK DOUGHNUT TRINKET POT                 0\n",
      "6                  SAVE THE PLANET MUG                0\n",
      "7   FANCY FONT HOME SWEET HOME DOORMAT                0\n",
      "8                            CAT BOWL                 0\n",
      "9       DOG BOWL , CHASING BALL DESIGN                0\n"
     ]
    }
   ],
   "source": [
    "df[\"IsChristmasItem\"] = df[\"Description\"].apply(lambda x: 1 if \"CHRISTMAS\" in str(x).upper() else 0)\n",
    "\n",
    "print(df[[\"Description\", \"IsChristmasItem\"]].head(10))"
   ]
  },
  {
   "cell_type": "code",
   "execution_count": 184,
   "metadata": {},
   "outputs": [
    {
     "name": "stdout",
     "output_type": "stream",
     "text": [
      "     Customer ID CustomerType\n",
      "0        13085.0        Loyal\n",
      "12       13078.0        Loyal\n",
      "31       15362.0        Loyal\n",
      "54       18102.0        Loyal\n",
      "71       12682.0        Loyal\n",
      "90       18087.0        Loyal\n",
      "96       13635.0        Loyal\n",
      "119      14110.0        Loyal\n",
      "126      12636.0     One-time\n",
      "127      17519.0        Loyal\n"
     ]
    }
   ],
   "source": [
    "# Beregn antal køb per kunde\n",
    "purchase_counts = df.groupby(\"Customer ID\")[\"Invoice\"].count()\n",
    "\n",
    "# Tilføj kunde-type til data\n",
    "df[\"CustomerType\"] = df[\"Customer ID\"].map(lambda x: \n",
    "    \"Loyal\" if purchase_counts.get(x, 0) > 10 else \n",
    "    \"Occasional\" if purchase_counts.get(x, 0) > 3 else \n",
    "    \"One-time\")\n",
    "\n",
    "print(df[[\"Customer ID\", \"CustomerType\"]].drop_duplicates().head(10))"
   ]
  },
  {
   "cell_type": "code",
   "execution_count": 185,
   "metadata": {},
   "outputs": [
    {
     "name": "stdout",
     "output_type": "stream",
     "text": [
      "  Invoice  MultiItemOrder\n",
      "0  489434               1\n",
      "1  489434               1\n",
      "2  489434               1\n",
      "3  489434               1\n",
      "4  489434               1\n",
      "5  489434               1\n",
      "6  489434               1\n",
      "7  489434               1\n",
      "8  489435               1\n",
      "9  489435               1\n",
      "MultiItemOrder\n",
      "1    406508\n",
      "0      4255\n",
      "Name: count, dtype: int64\n"
     ]
    }
   ],
   "source": [
    "# Identificér fakturaer med flere unikke produkter\n",
    "multi_item_orders = df.groupby(\"Invoice\")[\"StockCode\"].nunique()\n",
    "\n",
    "# Flag fakturaer med flere unikke produkter\n",
    "df[\"MultiItemOrder\"] = df[\"Invoice\"].map(multi_item_orders).apply(lambda x: 1 if x > 1 else 0)\n",
    "\n",
    "# Se nogle eksempler for at sikre os, at det virker\n",
    "print(df[[\"Invoice\", \"MultiItemOrder\"]].head(10))\n",
    "\n",
    "# Se fordelingen af enkelt- vs. multi-item ordrer\n",
    "print(df[\"MultiItemOrder\"].value_counts())"
   ]
  },
  {
   "cell_type": "code",
   "execution_count": 190,
   "metadata": {},
   "outputs": [],
   "source": [
    "def extract(dataset_path):\n",
    "    # Indlæs Excel-filen\n",
    "    df = pd.read_excel(dataset_path)\n",
    "    return df\n",
    "\n",
    "def transform(df):\n",
    "    # Fyld manglende 'Description' med den mest almindelige værdi pr. 'StockCode'\n",
    "    df['Description'] = df.groupby('StockCode')['Description'].transform(lambda x: x.fillna(x.mode()[0]) if not x.mode().empty else x)\n",
    "\n",
    "    # Fjern rækker, hvor 'Customer ID' mangler\n",
    "    df = df.dropna(subset=['Customer ID'])\n",
    "\n",
    "    # Fjern dubletter\n",
    "    df.drop_duplicates(inplace=True)\n",
    "\n",
    "    # Beregn Revenue (omsætning)\n",
    "    df[\"Revenue\"] = df[\"Quantity\"] * df[\"Price\"]\n",
    "\n",
    "    # Tilføj en kolonne, der viser dagen i ugen (0 = mandag, 6 = søndag)\n",
    "    df[\"DayOfWeek\"] = df[\"InvoiceDate\"].dt.dayofweek\n",
    "\n",
    "    # Compute TotalRevenue for each Customer ID\n",
    "    df[\"TotalRevenue\"] = df.groupby(\"Customer ID\")[\"Revenue\"].transform(\"sum\")\n",
    "\n",
    "    # Find det produkt med den højeste samlede omsætning\n",
    "    most_popular_product = df.groupby(\"StockCode\")[\"Revenue\"].sum().idxmax()\n",
    "\n",
    "    # Beregn ordre-størrelse ved at summere Quantity for hver InvoiceNo\n",
    "    df[\"OrderSize\"] = df.groupby(\"Invoice\")[\"Quantity\"].transform(\"sum\")\n",
    "\n",
    "    # Segmentér kunder baseret på TotalRevenue\n",
    "    df[\"CustomerTier\"] = df[\"TotalRevenue\"].apply(lambda x: \"High\" if x > 10000 else \"Medium\" if x > 5000 else \"Low\")\n",
    "\n",
    "    # er der discount på produktet?\n",
    "    df[\"IsDiscount\"] = df[\"Description\"].apply(lambda x: 1 if \"DISCOUNT\" in str(x).upper() else 0)\n",
    "    \n",
    "    # Anvend transaktionskategorisering på Revenue\n",
    "    df[\"TransactionCategory\"] = df[\"Revenue\"].apply(lambda x: \n",
    "    \"Small\" if x < 10 else (\"Medium\" if x < 100 else \"Large\"))\n",
    "\n",
    "    # Is it a christmas item?\n",
    "    df[\"IsChristmasItem\"] = df[\"Description\"].apply(lambda x: 1 if \"CHRISTMAS\" in str(x).upper() else 0)\n",
    "    \n",
    "    # Which type customer?\n",
    "    df[\"CustomerType\"] = df[\"Customer ID\"].map(lambda x: \n",
    "    \"Loyal\" if purchase_counts.get(x, 0) > 10 else \n",
    "    \"Occasional\" if purchase_counts.get(x, 0) > 3 else \n",
    "    \"One-time\")\n",
    "\n",
    "    # Identificér fakturaer med flere unikke produkter\n",
    "    multi_item_orders = df.groupby(\"Invoice\")[\"StockCode\"].nunique()\n",
    "\n",
    "    # Flag fakturaer med flere unikke produkter\n",
    "    df[\"MultiItemOrder\"] = df[\"Invoice\"].map(multi_item_orders).apply(lambda x: 1 if x > 1 else 0)\n",
    "\n",
    "    return df\n",
    "\n",
    "def load(df, output_path):\n",
    "    \"\"\"Gemmer data i en ny CSV-fil\"\"\"\n",
    "    df.to_csv(output_path, index=False)\n",
    "    print(f\" Data gemt til {output_path}\")\n",
    "    return df\n",
    "\n",
    "def ETL(dataset_path, output_path):\n",
    "    \"\"\"Kører hele ETL-pipelinen\"\"\"\n",
    "    print(\" Starter Extract...\")\n",
    "    df = extract(dataset_path)\n",
    "\n",
    "    print(\" Starter Transform...\")\n",
    "    df_transformed = transform(df)\n",
    "\n",
    "    print(\" Starter Load...\")\n",
    "    df_loaded = load(df_transformed, output_path)\n",
    "\n",
    "    print(\"ETL-pipeline færdig!\")\n",
    "    return df_loaded\n",
    "\n",
    "  "
   ]
  },
  {
   "cell_type": "code",
   "execution_count": 187,
   "metadata": {},
   "outputs": [
    {
     "name": "stdout",
     "output_type": "stream",
     "text": [
      "📥 Starter Extract...\n",
      " Starter Transform...\n"
     ]
    },
    {
     "name": "stderr",
     "output_type": "stream",
     "text": [
      "C:\\Users\\Thoma\\AppData\\Local\\Temp\\ipykernel_16812\\4253849677.py:14: SettingWithCopyWarning: \n",
      "A value is trying to be set on a copy of a slice from a DataFrame\n",
      "\n",
      "See the caveats in the documentation: https://pandas.pydata.org/pandas-docs/stable/user_guide/indexing.html#returning-a-view-versus-a-copy\n",
      "  df.drop_duplicates(inplace=True)\n",
      "C:\\Users\\Thoma\\AppData\\Local\\Temp\\ipykernel_16812\\4253849677.py:17: SettingWithCopyWarning: \n",
      "A value is trying to be set on a copy of a slice from a DataFrame.\n",
      "Try using .loc[row_indexer,col_indexer] = value instead\n",
      "\n",
      "See the caveats in the documentation: https://pandas.pydata.org/pandas-docs/stable/user_guide/indexing.html#returning-a-view-versus-a-copy\n",
      "  df[\"Revenue\"] = df[\"Quantity\"] * df[\"Price\"]\n",
      "C:\\Users\\Thoma\\AppData\\Local\\Temp\\ipykernel_16812\\4253849677.py:20: SettingWithCopyWarning: \n",
      "A value is trying to be set on a copy of a slice from a DataFrame.\n",
      "Try using .loc[row_indexer,col_indexer] = value instead\n",
      "\n",
      "See the caveats in the documentation: https://pandas.pydata.org/pandas-docs/stable/user_guide/indexing.html#returning-a-view-versus-a-copy\n",
      "  df[\"DayOfWeek\"] = df[\"InvoiceDate\"].dt.dayofweek\n",
      "C:\\Users\\Thoma\\AppData\\Local\\Temp\\ipykernel_16812\\4253849677.py:23: SettingWithCopyWarning: \n",
      "A value is trying to be set on a copy of a slice from a DataFrame.\n",
      "Try using .loc[row_indexer,col_indexer] = value instead\n",
      "\n",
      "See the caveats in the documentation: https://pandas.pydata.org/pandas-docs/stable/user_guide/indexing.html#returning-a-view-versus-a-copy\n",
      "  df[\"TotalRevenue\"] = df.groupby(\"Customer ID\")[\"Revenue\"].transform(\"sum\")\n",
      "C:\\Users\\Thoma\\AppData\\Local\\Temp\\ipykernel_16812\\4253849677.py:29: SettingWithCopyWarning: \n",
      "A value is trying to be set on a copy of a slice from a DataFrame.\n",
      "Try using .loc[row_indexer,col_indexer] = value instead\n",
      "\n",
      "See the caveats in the documentation: https://pandas.pydata.org/pandas-docs/stable/user_guide/indexing.html#returning-a-view-versus-a-copy\n",
      "  df[\"OrderSize\"] = df.groupby(\"Invoice\")[\"Quantity\"].transform(\"sum\")\n",
      "C:\\Users\\Thoma\\AppData\\Local\\Temp\\ipykernel_16812\\4253849677.py:32: SettingWithCopyWarning: \n",
      "A value is trying to be set on a copy of a slice from a DataFrame.\n",
      "Try using .loc[row_indexer,col_indexer] = value instead\n",
      "\n",
      "See the caveats in the documentation: https://pandas.pydata.org/pandas-docs/stable/user_guide/indexing.html#returning-a-view-versus-a-copy\n",
      "  df[\"CustomerTier\"] = df[\"TotalRevenue\"].apply(lambda x: \"High\" if x > 10000 else \"Medium\" if x > 5000 else \"Low\")\n",
      "C:\\Users\\Thoma\\AppData\\Local\\Temp\\ipykernel_16812\\4253849677.py:35: SettingWithCopyWarning: \n",
      "A value is trying to be set on a copy of a slice from a DataFrame.\n",
      "Try using .loc[row_indexer,col_indexer] = value instead\n",
      "\n",
      "See the caveats in the documentation: https://pandas.pydata.org/pandas-docs/stable/user_guide/indexing.html#returning-a-view-versus-a-copy\n",
      "  df[\"IsDiscount\"] = df[\"Description\"].apply(lambda x: 1 if \"DISCOUNT\" in str(x).upper() else 0)\n",
      "C:\\Users\\Thoma\\AppData\\Local\\Temp\\ipykernel_16812\\4253849677.py:38: SettingWithCopyWarning: \n",
      "A value is trying to be set on a copy of a slice from a DataFrame.\n",
      "Try using .loc[row_indexer,col_indexer] = value instead\n",
      "\n",
      "See the caveats in the documentation: https://pandas.pydata.org/pandas-docs/stable/user_guide/indexing.html#returning-a-view-versus-a-copy\n",
      "  df[\"TransactionCategory\"] = df[\"Revenue\"].apply(lambda x:\n",
      "C:\\Users\\Thoma\\AppData\\Local\\Temp\\ipykernel_16812\\4253849677.py:42: SettingWithCopyWarning: \n",
      "A value is trying to be set on a copy of a slice from a DataFrame.\n",
      "Try using .loc[row_indexer,col_indexer] = value instead\n",
      "\n",
      "See the caveats in the documentation: https://pandas.pydata.org/pandas-docs/stable/user_guide/indexing.html#returning-a-view-versus-a-copy\n",
      "  df[\"IsChristmasItem\"] = df[\"Description\"].apply(lambda x: 1 if \"CHRISTMAS\" in str(x).upper() else 0)\n",
      "C:\\Users\\Thoma\\AppData\\Local\\Temp\\ipykernel_16812\\4253849677.py:45: SettingWithCopyWarning: \n",
      "A value is trying to be set on a copy of a slice from a DataFrame.\n",
      "Try using .loc[row_indexer,col_indexer] = value instead\n",
      "\n",
      "See the caveats in the documentation: https://pandas.pydata.org/pandas-docs/stable/user_guide/indexing.html#returning-a-view-versus-a-copy\n",
      "  df[\"CustomerType\"] = df[\"Customer ID\"].map(lambda x:\n",
      "C:\\Users\\Thoma\\AppData\\Local\\Temp\\ipykernel_16812\\4253849677.py:54: SettingWithCopyWarning: \n",
      "A value is trying to be set on a copy of a slice from a DataFrame.\n",
      "Try using .loc[row_indexer,col_indexer] = value instead\n",
      "\n",
      "See the caveats in the documentation: https://pandas.pydata.org/pandas-docs/stable/user_guide/indexing.html#returning-a-view-versus-a-copy\n",
      "  df[\"MultiItemOrder\"] = df[\"Invoice\"].map(multi_item_orders).apply(lambda x: 1 if x > 1 else 0)\n"
     ]
    },
    {
     "name": "stdout",
     "output_type": "stream",
     "text": [
      " Starter Load...\n",
      "✅ Data gemt til renset_data.csv\n",
      "ETL-pipeline færdig!\n"
     ]
    },
    {
     "data": {
      "text/html": [
       "<div>\n",
       "<style scoped>\n",
       "    .dataframe tbody tr th:only-of-type {\n",
       "        vertical-align: middle;\n",
       "    }\n",
       "\n",
       "    .dataframe tbody tr th {\n",
       "        vertical-align: top;\n",
       "    }\n",
       "\n",
       "    .dataframe thead th {\n",
       "        text-align: right;\n",
       "    }\n",
       "</style>\n",
       "<table border=\"1\" class=\"dataframe\">\n",
       "  <thead>\n",
       "    <tr style=\"text-align: right;\">\n",
       "      <th></th>\n",
       "      <th>Invoice</th>\n",
       "      <th>StockCode</th>\n",
       "      <th>Description</th>\n",
       "      <th>Quantity</th>\n",
       "      <th>InvoiceDate</th>\n",
       "      <th>Price</th>\n",
       "      <th>Customer ID</th>\n",
       "      <th>Country</th>\n",
       "      <th>Revenue</th>\n",
       "      <th>DayOfWeek</th>\n",
       "      <th>TotalRevenue</th>\n",
       "      <th>OrderSize</th>\n",
       "      <th>CustomerTier</th>\n",
       "      <th>IsDiscount</th>\n",
       "      <th>TransactionCategory</th>\n",
       "      <th>IsChristmasItem</th>\n",
       "      <th>CustomerType</th>\n",
       "      <th>MultiItemOrder</th>\n",
       "    </tr>\n",
       "  </thead>\n",
       "  <tbody>\n",
       "    <tr>\n",
       "      <th>0</th>\n",
       "      <td>489434</td>\n",
       "      <td>85048</td>\n",
       "      <td>15CM CHRISTMAS GLASS BALL 20 LIGHTS</td>\n",
       "      <td>12</td>\n",
       "      <td>2009-12-01 07:45:00</td>\n",
       "      <td>6.95</td>\n",
       "      <td>13085.0</td>\n",
       "      <td>United Kingdom</td>\n",
       "      <td>83.4</td>\n",
       "      <td>1</td>\n",
       "      <td>1187.08</td>\n",
       "      <td>166</td>\n",
       "      <td>Low</td>\n",
       "      <td>0</td>\n",
       "      <td>Medium</td>\n",
       "      <td>1</td>\n",
       "      <td>Loyal</td>\n",
       "      <td>1</td>\n",
       "    </tr>\n",
       "    <tr>\n",
       "      <th>1</th>\n",
       "      <td>489434</td>\n",
       "      <td>79323P</td>\n",
       "      <td>PINK CHERRY LIGHTS</td>\n",
       "      <td>12</td>\n",
       "      <td>2009-12-01 07:45:00</td>\n",
       "      <td>6.75</td>\n",
       "      <td>13085.0</td>\n",
       "      <td>United Kingdom</td>\n",
       "      <td>81.0</td>\n",
       "      <td>1</td>\n",
       "      <td>1187.08</td>\n",
       "      <td>166</td>\n",
       "      <td>Low</td>\n",
       "      <td>0</td>\n",
       "      <td>Medium</td>\n",
       "      <td>0</td>\n",
       "      <td>Loyal</td>\n",
       "      <td>1</td>\n",
       "    </tr>\n",
       "    <tr>\n",
       "      <th>2</th>\n",
       "      <td>489434</td>\n",
       "      <td>79323W</td>\n",
       "      <td>WHITE CHERRY LIGHTS</td>\n",
       "      <td>12</td>\n",
       "      <td>2009-12-01 07:45:00</td>\n",
       "      <td>6.75</td>\n",
       "      <td>13085.0</td>\n",
       "      <td>United Kingdom</td>\n",
       "      <td>81.0</td>\n",
       "      <td>1</td>\n",
       "      <td>1187.08</td>\n",
       "      <td>166</td>\n",
       "      <td>Low</td>\n",
       "      <td>0</td>\n",
       "      <td>Medium</td>\n",
       "      <td>0</td>\n",
       "      <td>Loyal</td>\n",
       "      <td>1</td>\n",
       "    </tr>\n",
       "    <tr>\n",
       "      <th>3</th>\n",
       "      <td>489434</td>\n",
       "      <td>22041</td>\n",
       "      <td>RECORD FRAME 7\" SINGLE SIZE</td>\n",
       "      <td>48</td>\n",
       "      <td>2009-12-01 07:45:00</td>\n",
       "      <td>2.10</td>\n",
       "      <td>13085.0</td>\n",
       "      <td>United Kingdom</td>\n",
       "      <td>100.8</td>\n",
       "      <td>1</td>\n",
       "      <td>1187.08</td>\n",
       "      <td>166</td>\n",
       "      <td>Low</td>\n",
       "      <td>0</td>\n",
       "      <td>Large</td>\n",
       "      <td>0</td>\n",
       "      <td>Loyal</td>\n",
       "      <td>1</td>\n",
       "    </tr>\n",
       "    <tr>\n",
       "      <th>4</th>\n",
       "      <td>489434</td>\n",
       "      <td>21232</td>\n",
       "      <td>STRAWBERRY CERAMIC TRINKET BOX</td>\n",
       "      <td>24</td>\n",
       "      <td>2009-12-01 07:45:00</td>\n",
       "      <td>1.25</td>\n",
       "      <td>13085.0</td>\n",
       "      <td>United Kingdom</td>\n",
       "      <td>30.0</td>\n",
       "      <td>1</td>\n",
       "      <td>1187.08</td>\n",
       "      <td>166</td>\n",
       "      <td>Low</td>\n",
       "      <td>0</td>\n",
       "      <td>Medium</td>\n",
       "      <td>0</td>\n",
       "      <td>Loyal</td>\n",
       "      <td>1</td>\n",
       "    </tr>\n",
       "  </tbody>\n",
       "</table>\n",
       "</div>"
      ],
      "text/plain": [
       "  Invoice StockCode                          Description  Quantity  \\\n",
       "0  489434     85048  15CM CHRISTMAS GLASS BALL 20 LIGHTS        12   \n",
       "1  489434    79323P                   PINK CHERRY LIGHTS        12   \n",
       "2  489434    79323W                  WHITE CHERRY LIGHTS        12   \n",
       "3  489434     22041         RECORD FRAME 7\" SINGLE SIZE         48   \n",
       "4  489434     21232       STRAWBERRY CERAMIC TRINKET BOX        24   \n",
       "\n",
       "          InvoiceDate  Price  Customer ID         Country  Revenue  DayOfWeek  \\\n",
       "0 2009-12-01 07:45:00   6.95      13085.0  United Kingdom     83.4          1   \n",
       "1 2009-12-01 07:45:00   6.75      13085.0  United Kingdom     81.0          1   \n",
       "2 2009-12-01 07:45:00   6.75      13085.0  United Kingdom     81.0          1   \n",
       "3 2009-12-01 07:45:00   2.10      13085.0  United Kingdom    100.8          1   \n",
       "4 2009-12-01 07:45:00   1.25      13085.0  United Kingdom     30.0          1   \n",
       "\n",
       "   TotalRevenue  OrderSize CustomerTier  IsDiscount TransactionCategory  \\\n",
       "0       1187.08        166          Low           0              Medium   \n",
       "1       1187.08        166          Low           0              Medium   \n",
       "2       1187.08        166          Low           0              Medium   \n",
       "3       1187.08        166          Low           0               Large   \n",
       "4       1187.08        166          Low           0              Medium   \n",
       "\n",
       "   IsChristmasItem CustomerType  MultiItemOrder  \n",
       "0                1        Loyal               1  \n",
       "1                0        Loyal               1  \n",
       "2                0        Loyal               1  \n",
       "3                0        Loyal               1  \n",
       "4                0        Loyal               1  "
      ]
     },
     "execution_count": 187,
     "metadata": {},
     "output_type": "execute_result"
    }
   ],
   "source": [
    "dataset_path = r\"C:\\Users\\Thoma\\.cache\\kagglehub\\datasets\\lakshmi25npathi\\online-retail-dataset\\versions\\1\\online_retail_II.xlsx\"\n",
    "output_path = \"renset_data.csv\"\n",
    "\n",
    "# Kør ETL-pipelinen\n",
    "df = ETL(dataset_path, output_path)\n",
    "df.head()"
   ]
  },
  {
   "cell_type": "code",
   "execution_count": null,
   "metadata": {},
   "outputs": [],
   "source": []
  }
 ],
 "metadata": {
  "colab": {
   "provenance": []
  },
  "kernelspec": {
   "display_name": "Python 3",
   "name": "python3"
  },
  "language_info": {
   "codemirror_mode": {
    "name": "ipython",
    "version": 3
   },
   "file_extension": ".py",
   "mimetype": "text/x-python",
   "name": "python",
   "nbconvert_exporter": "python",
   "pygments_lexer": "ipython3",
   "version": "3.12.1"
  }
 },
 "nbformat": 4,
 "nbformat_minor": 0
}
